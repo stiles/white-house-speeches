{
 "cells": [
  {
   "cell_type": "markdown",
   "id": "8d8c727d-dbdb-4aa8-b80f-f1bfa0331534",
   "metadata": {},
   "source": [
    "# Scrape Trump White House transcript metadata"
   ]
  },
  {
   "cell_type": "markdown",
   "id": "a1757991-884f-4258-9af2-d71d34f03f76",
   "metadata": {},
   "source": [
    "> Use the requests library to visit the Biden's administration's [press release page](https://www.whitehouse.gov/briefing-room), loop over the pagination and grab basic information (headline, url, date and category) about each remarks transcript."
   ]
  },
  {
   "cell_type": "markdown",
   "id": "0b107a0d-19e7-4559-ae98-c607df41a5da",
   "metadata": {},
   "source": [
    "---"
   ]
  },
  {
   "cell_type": "markdown",
   "id": "1f586bf2-be53-459f-8bcc-ee6feb1dfd32",
   "metadata": {},
   "source": [
    "## Config"
   ]
  },
  {
   "cell_type": "markdown",
   "id": "9c6c6d52-28c5-468e-a5d6-595a37de7e7e",
   "metadata": {},
   "source": [
    "#### Python tools and Jupyter settings"
   ]
  },
  {
   "cell_type": "code",
   "execution_count": 1,
   "id": "429496cf-6059-4d4a-b582-59c93c838291",
   "metadata": {},
   "outputs": [],
   "source": [
    "import json\n",
    "import requests\n",
    "import pandas as pd\n",
    "import jupyter_black\n",
    "import altair as alt\n",
    "from bs4 import BeautifulSoup\n",
    "from tqdm.notebook import tqdm"
   ]
  },
  {
   "cell_type": "code",
   "execution_count": 2,
   "id": "6f768d88-693a-4d1a-a420-8626b0d8bf19",
   "metadata": {
    "tags": []
   },
   "outputs": [
    {
     "data": {
      "text/html": [
       "\n",
       "                <script type=\"application/javascript\" id=\"jupyter_black\">\n",
       "                (function() {\n",
       "                    if (window.IPython === undefined) {\n",
       "                        return\n",
       "                    }\n",
       "                    var msg = \"WARNING: it looks like you might have loaded \" +\n",
       "                        \"jupyter_black in a non-lab notebook with \" +\n",
       "                        \"`is_lab=True`. Please double check, and if \" +\n",
       "                        \"loading with `%load_ext` please review the README!\"\n",
       "                    console.log(msg)\n",
       "                    alert(msg)\n",
       "                })()\n",
       "                </script>\n",
       "                "
      ],
      "text/plain": [
       "<IPython.core.display.HTML object>"
      ]
     },
     "metadata": {},
     "output_type": "display_data"
    }
   ],
   "source": [
    "jupyter_black.load()\n",
    "pd.options.display.max_columns = 100\n",
    "pd.options.display.max_rows = 100\n",
    "pd.options.display.max_colwidth = None"
   ]
  },
  {
   "cell_type": "code",
   "execution_count": 3,
   "id": "a42f81af-91e0-42e5-b105-9116496c5ef5",
   "metadata": {
    "tags": []
   },
   "outputs": [],
   "source": [
    "today = pd.Timestamp(\"today\").strftime(\"%Y-%m-%d\")\n",
    "president = \"trump\""
   ]
  },
  {
   "cell_type": "markdown",
   "id": "b09e6202-e6f2-4968-9f36-92cb7af8a939",
   "metadata": {},
   "source": [
    "---"
   ]
  },
  {
   "cell_type": "markdown",
   "id": "fb22d1db-3553-4446-96ce-a0a4bfb1c40a",
   "metadata": {},
   "source": [
    "## Read data"
   ]
  },
  {
   "cell_type": "markdown",
   "id": "a5921c6b-ed8e-4ded-8870-28b1aa7c4c04",
   "metadata": {},
   "source": [
    "#### Get pagination details from archived White House news page [home page](https://trumpwhitehouse.archives.gov/news/)"
   ]
  },
  {
   "cell_type": "code",
   "execution_count": 4,
   "id": "4f5eb6aa-4def-42de-afe4-be0063793c09",
   "metadata": {},
   "outputs": [],
   "source": [
    "r = requests.get(f\"https://trumpwhitehouse.archives.gov/news/\")\n",
    "sp = BeautifulSoup(r.text, \"html.parser\")\n",
    "\n",
    "pagination = sp.find_all(\"a\", class_=\"page-numbers\")[-1].text\n",
    "end = int(pagination.replace(\"Page \", \"\")) + 1"
   ]
  },
  {
   "cell_type": "markdown",
   "id": "ae48cbb4-e7c7-4dee-96b4-ffd0cd609c4b",
   "metadata": {},
   "source": [
    "#### Loop through each page [in the archive](https://trumpwhitehouse.archives.gov/news/) and snag details about each release"
   ]
  },
  {
   "cell_type": "code",
   "execution_count": 5,
   "id": "69cac507-e9a0-4844-8417-73a29d8db018",
   "metadata": {},
   "outputs": [
    {
     "data": {
      "application/vnd.jupyter.widget-view+json": {
       "model_id": "f441b947c37a4e18b2e46418903aad41",
       "version_major": 2,
       "version_minor": 0
      },
      "text/plain": [
       "  0%|          | 0/910 [00:00<?, ?it/s]"
      ]
     },
     "metadata": {},
     "output_type": "display_data"
    }
   ],
   "source": [
    "releases = []\n",
    "\n",
    "for i in tqdm(range(1, end)):  # Example: Looping through 5 pages\n",
    "    response = requests.get(f\"https://trumpwhitehouse.archives.gov/news/page/{i}/\")\n",
    "    soup = BeautifulSoup(response.text, \"html.parser\")\n",
    "\n",
    "    # Select articles for both briefing statements and presidential actions\n",
    "    articles = soup.find_all(\n",
    "        \"article\", class_=[\"briefing-statement\", \"presidential-action\"]\n",
    "    )\n",
    "\n",
    "    for article in articles:\n",
    "        # Common elements\n",
    "        headline = article.find(\"h2\").text.strip()\n",
    "        url = article.find(\"a\")[\"href\"]\n",
    "        date = article.find(\"time\").text\n",
    "\n",
    "        # Category can be either briefing-statement__type or presidential-action__type\n",
    "        category = article.find(\n",
    "            \"p\", class_=[\"briefing-statement__type\", \"presidential-action__type\"]\n",
    "        )\n",
    "        if category:\n",
    "            category_text = category.text.strip()\n",
    "        else:\n",
    "            category_text = \"Not specified\"\n",
    "\n",
    "        # Extracting issue flag text\n",
    "        issue_flag = article.find(\"p\", class_=\"issue-flag\")\n",
    "        if issue_flag:\n",
    "            issue_flag_text = issue_flag.text.strip()\n",
    "        else:\n",
    "            issue_flag_text = \"Not specified\"\n",
    "\n",
    "        releases_dict = {\n",
    "            \"headline\": headline,\n",
    "            \"url\": url,\n",
    "            \"date_str\": date,\n",
    "            \"category\": category_text,\n",
    "            \"issue_flag\": issue_flag_text,  # Adding issue flag text to the dictionary\n",
    "            \"page\": i,\n",
    "        }\n",
    "        releases.append(releases_dict)"
   ]
  },
  {
   "cell_type": "markdown",
   "id": "80f9ecb7-62fd-4252-b659-d8fd9618bb2a",
   "metadata": {},
   "source": [
    "#### Get the list into a dataframe"
   ]
  },
  {
   "cell_type": "code",
   "execution_count": 6,
   "id": "e1e59eb8-3334-4737-a7df-11dd2b5f0408",
   "metadata": {},
   "outputs": [],
   "source": [
    "src = pd.DataFrame(releases)"
   ]
  },
  {
   "cell_type": "markdown",
   "id": "75937cbb-dfe9-4d5d-a56c-f731e84fe01e",
   "metadata": {},
   "source": [
    "#### How many releases?"
   ]
  },
  {
   "cell_type": "code",
   "execution_count": 7,
   "id": "85b8af43-0654-4946-bd0f-10c015912006",
   "metadata": {},
   "outputs": [
    {
     "data": {
      "text/plain": [
       "8478"
      ]
     },
     "execution_count": 7,
     "metadata": {},
     "output_type": "execute_result"
    }
   ],
   "source": [
    "count = len(src)\n",
    "count"
   ]
  },
  {
   "cell_type": "markdown",
   "id": "1da95f44-3c1f-45aa-913a-a1853c3b7089",
   "metadata": {},
   "source": [
    "#### Clean up"
   ]
  },
  {
   "cell_type": "code",
   "execution_count": 8,
   "id": "015ef464-70eb-4f1a-8faa-603a418ef0e9",
   "metadata": {},
   "outputs": [],
   "source": [
    "src[\"location\"] = src[\"headline\"].str.split(\"|\", expand=True)[1].fillna(\"\")"
   ]
  },
  {
   "cell_type": "code",
   "execution_count": 9,
   "id": "1989945e-3143-49dd-bb10-a691d693a374",
   "metadata": {},
   "outputs": [],
   "source": [
    "src[\"date\"] = pd.to_datetime(src[\"date_str\"]).astype(str)"
   ]
  },
  {
   "cell_type": "code",
   "execution_count": 10,
   "id": "a3f928bb-3205-49a5-bf62-4b3d675e1498",
   "metadata": {},
   "outputs": [],
   "source": [
    "src[\"president\"] = president"
   ]
  },
  {
   "cell_type": "code",
   "execution_count": 11,
   "id": "85ba9b50-a6fe-40e6-9444-7ebce90e841d",
   "metadata": {},
   "outputs": [],
   "source": [
    "df = src.copy()"
   ]
  },
  {
   "cell_type": "markdown",
   "id": "14a2462e-375c-4e07-aba8-a2336c74975d",
   "metadata": {},
   "source": [
    "#### The result: "
   ]
  },
  {
   "cell_type": "code",
   "execution_count": 12,
   "id": "30204a2c-02a8-4867-a8ca-0c41cb04a116",
   "metadata": {},
   "outputs": [
    {
     "data": {
      "text/html": [
       "<div>\n",
       "<style scoped>\n",
       "    .dataframe tbody tr th:only-of-type {\n",
       "        vertical-align: middle;\n",
       "    }\n",
       "\n",
       "    .dataframe tbody tr th {\n",
       "        vertical-align: top;\n",
       "    }\n",
       "\n",
       "    .dataframe thead th {\n",
       "        text-align: right;\n",
       "    }\n",
       "</style>\n",
       "<table border=\"1\" class=\"dataframe\">\n",
       "  <thead>\n",
       "    <tr style=\"text-align: right;\">\n",
       "      <th></th>\n",
       "      <th>headline</th>\n",
       "      <th>url</th>\n",
       "      <th>date_str</th>\n",
       "      <th>category</th>\n",
       "      <th>issue_flag</th>\n",
       "      <th>page</th>\n",
       "      <th>location</th>\n",
       "      <th>date</th>\n",
       "      <th>president</th>\n",
       "    </tr>\n",
       "  </thead>\n",
       "  <tbody>\n",
       "    <tr>\n",
       "      <th>0</th>\n",
       "      <td>Executive Order on the Revocation of Executive Order 13770</td>\n",
       "      <td>https://trumpwhitehouse.archives.gov/presidential-actions/executive-order-revocation-executive-order-13770/</td>\n",
       "      <td>Jan 20, 2021</td>\n",
       "      <td>Executive Orders</td>\n",
       "      <td>Not specified</td>\n",
       "      <td>1</td>\n",
       "      <td></td>\n",
       "      <td>2021-01-20</td>\n",
       "      <td>trump</td>\n",
       "    </tr>\n",
       "    <tr>\n",
       "      <th>1</th>\n",
       "      <td>Statement from the Press Secretary Regarding Executive Grants of Clemency</td>\n",
       "      <td>https://trumpwhitehouse.archives.gov/briefings-statements/statement-press-secretary-regarding-executive-grants-clemency-012021/</td>\n",
       "      <td>Jan 20, 2021</td>\n",
       "      <td>Statements &amp; Releases</td>\n",
       "      <td>Law &amp; Justice</td>\n",
       "      <td>1</td>\n",
       "      <td></td>\n",
       "      <td>2021-01-20</td>\n",
       "      <td>trump</td>\n",
       "    </tr>\n",
       "    <tr>\n",
       "      <th>2</th>\n",
       "      <td>Executive Order on Care Of Veterans With Service In Uzbekistan</td>\n",
       "      <td>https://trumpwhitehouse.archives.gov/presidential-actions/executive-order-care-veterans-service-uzbekistan/</td>\n",
       "      <td>Jan 19, 2021</td>\n",
       "      <td>Executive Orders</td>\n",
       "      <td>Veterans</td>\n",
       "      <td>1</td>\n",
       "      <td></td>\n",
       "      <td>2021-01-19</td>\n",
       "      <td>trump</td>\n",
       "    </tr>\n",
       "    <tr>\n",
       "      <th>3</th>\n",
       "      <td>Memorandum on  Deferred Enforced Departure for Certain Venezuelans</td>\n",
       "      <td>https://trumpwhitehouse.archives.gov/presidential-actions/memorandum-deferred-enforced-departure-certain-venezuelans/</td>\n",
       "      <td>Jan 19, 2021</td>\n",
       "      <td>Presidential Memoranda</td>\n",
       "      <td>Foreign Policy</td>\n",
       "      <td>1</td>\n",
       "      <td></td>\n",
       "      <td>2021-01-19</td>\n",
       "      <td>trump</td>\n",
       "    </tr>\n",
       "    <tr>\n",
       "      <th>4</th>\n",
       "      <td>Statement from National Security Advisor Robert C. O’Brien</td>\n",
       "      <td>https://trumpwhitehouse.archives.gov/briefings-statements/statement-national-security-advisor-robert-c-obrien-011921/</td>\n",
       "      <td>Jan 19, 2021</td>\n",
       "      <td>Statements &amp; Releases</td>\n",
       "      <td>National Security &amp; Defense</td>\n",
       "      <td>1</td>\n",
       "      <td></td>\n",
       "      <td>2021-01-19</td>\n",
       "      <td>trump</td>\n",
       "    </tr>\n",
       "  </tbody>\n",
       "</table>\n",
       "</div>"
      ],
      "text/plain": [
       "                                                                    headline  \\\n",
       "0                 Executive Order on the Revocation of Executive Order 13770   \n",
       "1  Statement from the Press Secretary Regarding Executive Grants of Clemency   \n",
       "2             Executive Order on Care Of Veterans With Service In Uzbekistan   \n",
       "3         Memorandum on  Deferred Enforced Departure for Certain Venezuelans   \n",
       "4                 Statement from National Security Advisor Robert C. O’Brien   \n",
       "\n",
       "                                                                                                                               url  \\\n",
       "0                      https://trumpwhitehouse.archives.gov/presidential-actions/executive-order-revocation-executive-order-13770/   \n",
       "1  https://trumpwhitehouse.archives.gov/briefings-statements/statement-press-secretary-regarding-executive-grants-clemency-012021/   \n",
       "2                      https://trumpwhitehouse.archives.gov/presidential-actions/executive-order-care-veterans-service-uzbekistan/   \n",
       "3            https://trumpwhitehouse.archives.gov/presidential-actions/memorandum-deferred-enforced-departure-certain-venezuelans/   \n",
       "4            https://trumpwhitehouse.archives.gov/briefings-statements/statement-national-security-advisor-robert-c-obrien-011921/   \n",
       "\n",
       "       date_str                category                   issue_flag  page  \\\n",
       "0  Jan 20, 2021        Executive Orders                Not specified     1   \n",
       "1  Jan 20, 2021   Statements & Releases                Law & Justice     1   \n",
       "2  Jan 19, 2021        Executive Orders                     Veterans     1   \n",
       "3  Jan 19, 2021  Presidential Memoranda               Foreign Policy     1   \n",
       "4  Jan 19, 2021   Statements & Releases  National Security & Defense     1   \n",
       "\n",
       "  location        date president  \n",
       "0           2021-01-20     trump  \n",
       "1           2021-01-20     trump  \n",
       "2           2021-01-19     trump  \n",
       "3           2021-01-19     trump  \n",
       "4           2021-01-19     trump  "
      ]
     },
     "execution_count": 12,
     "metadata": {},
     "output_type": "execute_result"
    }
   ],
   "source": [
    "df.head()"
   ]
  },
  {
   "cell_type": "markdown",
   "id": "2fad8798-4727-4776-b537-ec62868c2da4",
   "metadata": {},
   "source": [
    "---"
   ]
  },
  {
   "cell_type": "markdown",
   "id": "aad1c729-1c63-4cd3-bcd0-0f48b6800b5b",
   "metadata": {},
   "source": [
    "## Export"
   ]
  },
  {
   "cell_type": "markdown",
   "id": "fa4de10c-a1ae-4bc7-a168-d912358bf9cb",
   "metadata": {},
   "source": [
    "#### All to CSV & JSON"
   ]
  },
  {
   "cell_type": "code",
   "execution_count": 13,
   "id": "fc7a04c7-aba6-4555-b598-61c21272ef59",
   "metadata": {},
   "outputs": [],
   "source": [
    "df.to_csv(\n",
    "    f\"../../data/processed/{president}/{president}_release_metadata.csv\", index=False\n",
    ")\n",
    "df.to_json(\n",
    "    f\"../../data/processed/{president}/{president}_release_metadata.json\",\n",
    "    indent=4,\n",
    "    orient=\"records\",\n",
    ")"
   ]
  },
  {
   "cell_type": "code",
   "execution_count": 14,
   "id": "6a212798-1fa8-4928-a682-de24c118f6a7",
   "metadata": {},
   "outputs": [
    {
     "name": "stdout",
     "output_type": "stream",
     "text": [
      "The scraper collected 8478 metadata records from President Trump. Data exported successfully.\n"
     ]
    }
   ],
   "source": [
    "print(\n",
    "    f\"The scraper collected {count} metadata records from President {president.title()}. Data exported successfully.\"\n",
    ")"
   ]
  },
  {
   "cell_type": "markdown",
   "id": "686fe593-1ec1-4ddc-b7a3-212467bd53bc",
   "metadata": {},
   "source": [
    "#### Export by category"
   ]
  },
  {
   "cell_type": "code",
   "execution_count": 15,
   "id": "d1023b41-cd28-4256-9d76-2794afe3a86c",
   "metadata": {},
   "outputs": [],
   "source": [
    "categories = list(df.category.unique())"
   ]
  },
  {
   "cell_type": "code",
   "execution_count": 16,
   "id": "ead930cc-72df-43ba-869b-4f4e2b92ab78",
   "metadata": {},
   "outputs": [],
   "source": [
    "# for c in categories:\n",
    "#     df.query(f'category == \"{c}\"').to_csv(\n",
    "#         f\"../../data/processed/{president}/{president}_release_metadata_{c.lower().replace(' ', '_')}.csv\",\n",
    "#         index=False,\n",
    "#     )\n",
    "#     df.query(f'category == \"{c}\"').to_json(\n",
    "#         f\"../../data/processed/{president}/{president}_release_metadata_{c.lower().replace(' ', '_')}.json\",\n",
    "#         indent=4,\n",
    "#         orient=\"records\",\n",
    "#     )"
   ]
  }
 ],
 "metadata": {
  "kernelspec": {
   "display_name": "Python 3 (ipykernel)",
   "language": "python",
   "name": "python3"
  },
  "language_info": {
   "codemirror_mode": {
    "name": "ipython",
    "version": 3
   },
   "file_extension": ".py",
   "mimetype": "text/x-python",
   "name": "python",
   "nbconvert_exporter": "python",
   "pygments_lexer": "ipython3",
   "version": "3.10.9"
  }
 },
 "nbformat": 4,
 "nbformat_minor": 5
}
