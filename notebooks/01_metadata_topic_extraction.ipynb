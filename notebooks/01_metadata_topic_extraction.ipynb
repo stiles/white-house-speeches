{
 "cells": [
  {
   "cell_type": "markdown",
   "id": "8d8c727d-dbdb-4aa8-b80f-f1bfa0331534",
   "metadata": {},
   "source": [
    "# Biden and Trump: Process and analyze press release metadata"
   ]
  },
  {
   "cell_type": "markdown",
   "id": "a1757991-884f-4258-9af2-d71d34f03f76",
   "metadata": {},
   "source": [
    "> Use natural language processing techniques to infer topics from the headlines in each president's press releases."
   ]
  },
  {
   "cell_type": "markdown",
   "id": "0b107a0d-19e7-4559-ae98-c607df41a5da",
   "metadata": {},
   "source": [
    "---"
   ]
  },
  {
   "cell_type": "markdown",
   "id": "1f586bf2-be53-459f-8bcc-ee6feb1dfd32",
   "metadata": {},
   "source": [
    "## Config"
   ]
  },
  {
   "cell_type": "markdown",
   "id": "9c6c6d52-28c5-468e-a5d6-595a37de7e7e",
   "metadata": {},
   "source": [
    "#### Python tools and Jupyter settings"
   ]
  },
  {
   "cell_type": "code",
   "execution_count": 1,
   "id": "1336459a-19b3-4a60-b0a4-ec212169e310",
   "metadata": {},
   "outputs": [],
   "source": [
    "import os\n",
    "import re\n",
    "import nltk\n",
    "import json\n",
    "import requests\n",
    "import googlemaps\n",
    "import numpy as np\n",
    "import pandas as pd\n",
    "import jupyter_black\n",
    "import altair as alt\n",
    "from bs4 import BeautifulSoup\n",
    "from tqdm.notebook import tqdm\n",
    "from collections import Counter\n",
    "import matplotlib.pyplot as plt\n",
    "from nltk.corpus import stopwords\n",
    "import plotly.graph_objects as go\n",
    "from nltk.tokenize import word_tokenize, MWETokenizer"
   ]
  },
  {
   "cell_type": "code",
   "execution_count": 2,
   "id": "b069992f-91fa-499f-8b31-6e645bdb8ebe",
   "metadata": {},
   "outputs": [],
   "source": [
    "# nltk.download(\"punkt\")\n",
    "# nltk.download(\"averaged_perceptron_tagger\")\n",
    "# nltk.download(\"stopwords\")\n",
    "stop_words = set(stopwords.words(\"english\"))"
   ]
  },
  {
   "cell_type": "code",
   "execution_count": 3,
   "id": "ff24afc3-8398-4fd1-92c4-942a174f72ff",
   "metadata": {},
   "outputs": [],
   "source": [
    "google_key = os.environ.get(\"GOOGLE_GEOCODER\")"
   ]
  },
  {
   "cell_type": "code",
   "execution_count": 4,
   "id": "84fda19c-1392-4902-a534-e0ccfcb1c119",
   "metadata": {
    "tags": []
   },
   "outputs": [
    {
     "data": {
      "text/html": [
       "\n",
       "                <script type=\"application/javascript\" id=\"jupyter_black\">\n",
       "                (function() {\n",
       "                    if (window.IPython === undefined) {\n",
       "                        return\n",
       "                    }\n",
       "                    var msg = \"WARNING: it looks like you might have loaded \" +\n",
       "                        \"jupyter_black in a non-lab notebook with \" +\n",
       "                        \"`is_lab=True`. Please double check, and if \" +\n",
       "                        \"loading with `%load_ext` please review the README!\"\n",
       "                    console.log(msg)\n",
       "                    alert(msg)\n",
       "                })()\n",
       "                </script>\n",
       "                "
      ],
      "text/plain": [
       "<IPython.core.display.HTML object>"
      ]
     },
     "metadata": {},
     "output_type": "display_data"
    }
   ],
   "source": [
    "jupyter_black.load()\n",
    "pd.options.display.max_columns = 100\n",
    "pd.options.display.max_rows = 100\n",
    "pd.options.display.max_colwidth = None"
   ]
  },
  {
   "cell_type": "code",
   "execution_count": 5,
   "id": "bd004799-515e-4c72-a270-857155d5269a",
   "metadata": {
    "tags": []
   },
   "outputs": [],
   "source": [
    "today = pd.Timestamp(\"today\").strftime(\"%Y-%m-%d\")\n",
    "presidents = [\"biden\", \"trump\"]"
   ]
  },
  {
   "cell_type": "markdown",
   "id": "b09e6202-e6f2-4968-9f36-92cb7af8a939",
   "metadata": {},
   "source": [
    "---"
   ]
  },
  {
   "cell_type": "markdown",
   "id": "fb22d1db-3553-4446-96ce-a0a4bfb1c40a",
   "metadata": {},
   "source": [
    "## Read data"
   ]
  },
  {
   "cell_type": "markdown",
   "id": "0349dddc-41d7-402a-a987-80579cf34477",
   "metadata": {},
   "source": [
    "#### File paths to metadata collected on each president's press releases"
   ]
  },
  {
   "cell_type": "code",
   "execution_count": 6,
   "id": "d3afe99c-6c75-4f2c-97af-08c9996258c9",
   "metadata": {},
   "outputs": [],
   "source": [
    "biden_metadata_path = \"../data/processed/biden/biden_release_metadata.csv\"\n",
    "trump_metadata_path = \"../data/processed/trump/trump_release_metadata.csv\""
   ]
  },
  {
   "cell_type": "markdown",
   "id": "a61e2a44-a93a-441b-be33-b41f65e0298a",
   "metadata": {},
   "source": [
    "#### Reading CSV files"
   ]
  },
  {
   "cell_type": "code",
   "execution_count": 7,
   "id": "5a15d837-248a-4cf8-9102-006790d78363",
   "metadata": {},
   "outputs": [],
   "source": [
    "biden_df = pd.read_csv(biden_metadata_path, parse_dates=[\"date\"])\n",
    "trump_df = pd.read_csv(trump_metadata_path, parse_dates=[\"date\"])"
   ]
  },
  {
   "cell_type": "markdown",
   "id": "9831e5e8-c654-42b1-b766-4c11d570b651",
   "metadata": {},
   "source": [
    "#### Concatenate DataFrames"
   ]
  },
  {
   "cell_type": "code",
   "execution_count": 8,
   "id": "35e9ec5a-c0d0-4733-8a21-6df5826a26da",
   "metadata": {},
   "outputs": [],
   "source": [
    "src = pd.concat([biden_df, trump_df], ignore_index=True)"
   ]
  },
  {
   "cell_type": "markdown",
   "id": "6ed94b6b-fc7b-4a27-9b19-aadab66b8f77",
   "metadata": {},
   "source": [
    "#### Function to remove non-ASCII characters"
   ]
  },
  {
   "cell_type": "code",
   "execution_count": 9,
   "id": "1323b739-63b4-47f0-bf3c-06e36c5d8679",
   "metadata": {},
   "outputs": [],
   "source": [
    "def remove_non_ascii(text):\n",
    "    return re.sub(r\"[^\\x00-\\x7F]+\", \" \", text)"
   ]
  },
  {
   "cell_type": "markdown",
   "id": "8711e25f-40c8-4774-9c15-879352061475",
   "metadata": {},
   "source": [
    "#### Apply this function to the headlines"
   ]
  },
  {
   "cell_type": "code",
   "execution_count": 10,
   "id": "357e3701-3d87-4a63-a27b-d5c561f68a7d",
   "metadata": {},
   "outputs": [],
   "source": [
    "src[\"headline\"] = src[\"headline\"].apply(remove_non_ascii)"
   ]
  },
  {
   "cell_type": "markdown",
   "id": "0e4bccbd-d56f-4c63-9b0f-9d11347ec962",
   "metadata": {},
   "source": [
    "#### How many releases?"
   ]
  },
  {
   "cell_type": "code",
   "execution_count": 11,
   "id": "e1cbfbb5-7853-4fad-a407-6be3a0b8e1af",
   "metadata": {},
   "outputs": [
    {
     "data": {
      "text/html": [
       "<div>\n",
       "<style scoped>\n",
       "    .dataframe tbody tr th:only-of-type {\n",
       "        vertical-align: middle;\n",
       "    }\n",
       "\n",
       "    .dataframe tbody tr th {\n",
       "        vertical-align: top;\n",
       "    }\n",
       "\n",
       "    .dataframe thead th {\n",
       "        text-align: right;\n",
       "    }\n",
       "</style>\n",
       "<table border=\"1\" class=\"dataframe\">\n",
       "  <thead>\n",
       "    <tr style=\"text-align: right;\">\n",
       "      <th></th>\n",
       "      <th>president</th>\n",
       "      <th>count</th>\n",
       "    </tr>\n",
       "  </thead>\n",
       "  <tbody>\n",
       "    <tr>\n",
       "      <th>0</th>\n",
       "      <td>biden</td>\n",
       "      <td>9922</td>\n",
       "    </tr>\n",
       "    <tr>\n",
       "      <th>1</th>\n",
       "      <td>trump</td>\n",
       "      <td>8478</td>\n",
       "    </tr>\n",
       "  </tbody>\n",
       "</table>\n",
       "</div>"
      ],
      "text/plain": [
       "  president  count\n",
       "0     biden   9922\n",
       "1     trump   8478"
      ]
     },
     "execution_count": 11,
     "metadata": {},
     "output_type": "execute_result"
    }
   ],
   "source": [
    "src.president.value_counts().reset_index()"
   ]
  },
  {
   "cell_type": "code",
   "execution_count": 12,
   "id": "7d6ebe5c-48a0-4a8c-8656-293f3c4e2acd",
   "metadata": {},
   "outputs": [
    {
     "data": {
      "text/plain": [
       "18400"
      ]
     },
     "execution_count": 12,
     "metadata": {},
     "output_type": "execute_result"
    }
   ],
   "source": [
    "total_releases = len(src)\n",
    "total_releases"
   ]
  },
  {
   "cell_type": "code",
   "execution_count": 13,
   "id": "61c140fd-38c9-4c48-a5b5-685f8cf07d1b",
   "metadata": {},
   "outputs": [],
   "source": [
    "df = src.copy()"
   ]
  },
  {
   "cell_type": "markdown",
   "id": "18c164fd-db11-4278-a50c-025670ccbc71",
   "metadata": {},
   "source": [
    "#### Filter the remaining analysis so it just applies to remarks by each president"
   ]
  },
  {
   "cell_type": "code",
   "execution_count": 14,
   "id": "5554c38e-1f3a-4363-a695-bba11ef3e548",
   "metadata": {},
   "outputs": [],
   "source": [
    "df[\"president_remarks\"] = df[\"headline\"].str.contains(\"Remarks by President\")"
   ]
  },
  {
   "cell_type": "code",
   "execution_count": 15,
   "id": "ca544437-f410-4aca-ab46-7851973cebc8",
   "metadata": {},
   "outputs": [],
   "source": [
    "remarks_df = df[df[\"headline\"].str.contains(\"Remarks by President\")].copy()"
   ]
  },
  {
   "cell_type": "code",
   "execution_count": 16,
   "id": "27dd9ab5-ffdc-4c49-b36a-dc43bee767da",
   "metadata": {},
   "outputs": [
    {
     "data": {
      "text/html": [
       "<div>\n",
       "<style scoped>\n",
       "    .dataframe tbody tr th:only-of-type {\n",
       "        vertical-align: middle;\n",
       "    }\n",
       "\n",
       "    .dataframe tbody tr th {\n",
       "        vertical-align: top;\n",
       "    }\n",
       "\n",
       "    .dataframe thead th {\n",
       "        text-align: right;\n",
       "    }\n",
       "</style>\n",
       "<table border=\"1\" class=\"dataframe\">\n",
       "  <thead>\n",
       "    <tr style=\"text-align: right;\">\n",
       "      <th></th>\n",
       "      <th>president</th>\n",
       "      <th>count</th>\n",
       "    </tr>\n",
       "  </thead>\n",
       "  <tbody>\n",
       "    <tr>\n",
       "      <th>0</th>\n",
       "      <td>trump</td>\n",
       "      <td>1383</td>\n",
       "    </tr>\n",
       "    <tr>\n",
       "      <th>1</th>\n",
       "      <td>biden</td>\n",
       "      <td>1271</td>\n",
       "    </tr>\n",
       "  </tbody>\n",
       "</table>\n",
       "</div>"
      ],
      "text/plain": [
       "  president  count\n",
       "0     trump   1383\n",
       "1     biden   1271"
      ]
     },
     "execution_count": 16,
     "metadata": {},
     "output_type": "execute_result"
    }
   ],
   "source": [
    "remarks_df.president.value_counts().reset_index()"
   ]
  },
  {
   "cell_type": "markdown",
   "id": "f9552415-b445-4248-929d-1e6e3da2680d",
   "metadata": {},
   "source": [
    "---"
   ]
  },
  {
   "cell_type": "markdown",
   "id": "868ffa6c-6a9a-4600-9f96-9811d90a650f",
   "metadata": {},
   "source": [
    "## Processing"
   ]
  },
  {
   "cell_type": "markdown",
   "id": "4c4597ba-6ba8-4511-be69-dd6d2ecf2555",
   "metadata": {},
   "source": [
    "#### Biden's release don't have `issue_flag` text, and Trump's are occasionally incomplete"
   ]
  },
  {
   "cell_type": "code",
   "execution_count": 17,
   "id": "ac3300d3-e4a6-426f-8c57-b409160bd8a3",
   "metadata": {},
   "outputs": [],
   "source": [
    "df[\"issue_flag\"] = df[\"issue_flag\"].fillna(\"Not specified\")"
   ]
  },
  {
   "cell_type": "markdown",
   "id": "79429955-d84f-444c-a735-d8dd884a25ce",
   "metadata": {},
   "source": [
    "#### They use slightly different categories. Map original ones to derived ones."
   ]
  },
  {
   "cell_type": "code",
   "execution_count": 18,
   "id": "cc38d78c-dc79-46ca-9471-5aef8b12a6c3",
   "metadata": {},
   "outputs": [],
   "source": [
    "category_mapping = {\n",
    "    \"Speeches and Remarks\": [\"Speeches and Remarks\", \"Remarks\"],\n",
    "    \"Statements and Releases\": [\n",
    "        \"Statements and Releases\",\n",
    "        \"Statements & Releases\",\n",
    "        \"Fact Sheets\",\n",
    "        \"News Clips\",\n",
    "    ],\n",
    "    \"Presidential Actions\": [\n",
    "        \"Presidential Actions\",\n",
    "        \"Executive Orders\",\n",
    "        \"Presidential Memoranda\",\n",
    "        \"Proclamations\",\n",
    "    ],\n",
    "    \"Legislation and Policy\": [\"Legislation\", \"Not specified\"],\n",
    "    \"Press and Media\": [\"Press Briefings\", \"Nominations & Appointments\", \"Blog\"],\n",
    "    \"Transparency and Governance\": [\"Disclosures\"],\n",
    "}"
   ]
  },
  {
   "cell_type": "markdown",
   "id": "84fc81c2-bba3-4153-955a-0a655559079b",
   "metadata": {},
   "source": [
    "#### Function to map original categories to derived categories"
   ]
  },
  {
   "cell_type": "code",
   "execution_count": 19,
   "id": "9297b294-a9dc-427f-b458-2422476b2333",
   "metadata": {},
   "outputs": [],
   "source": [
    "def map_to_derived_category(original_category):\n",
    "    for derived, originals in category_mapping.items():\n",
    "        if original_category in originals:\n",
    "            return derived\n",
    "    return \"Other\"  # Default category if no match is found"
   ]
  },
  {
   "cell_type": "markdown",
   "id": "58fef694-78aa-405e-aba4-774e9b788445",
   "metadata": {},
   "source": [
    "#### Apply the mapping"
   ]
  },
  {
   "cell_type": "code",
   "execution_count": 20,
   "id": "5618f630-5598-4f32-b115-b2d7004a7a10",
   "metadata": {},
   "outputs": [],
   "source": [
    "df[\"derived_category\"] = df[\"category\"].apply(map_to_derived_category)"
   ]
  },
  {
   "cell_type": "markdown",
   "id": "c8f96ba5-4108-43cd-b1db-eff528ccc641",
   "metadata": {},
   "source": [
    "---"
   ]
  },
  {
   "cell_type": "markdown",
   "id": "b2c60503-2699-47d4-9b6e-dbc5d38bbb43",
   "metadata": {},
   "source": [
    "## Extraction"
   ]
  },
  {
   "cell_type": "markdown",
   "id": "e1423d0a-8573-4d20-bd10-115743b9b0fe",
   "metadata": {},
   "source": [
    "### Location"
   ]
  },
  {
   "cell_type": "markdown",
   "id": "89976146-d375-4326-b11d-220e30274527",
   "metadata": {},
   "source": [
    "#### How many releases list a location? What share of all of them? "
   ]
  },
  {
   "cell_type": "code",
   "execution_count": 21,
   "id": "3e5190fe-0a9f-437f-b28f-a78687cd20a9",
   "metadata": {},
   "outputs": [
    {
     "data": {
      "text/plain": [
       "638"
      ]
     },
     "execution_count": 21,
     "metadata": {},
     "output_type": "execute_result"
    }
   ],
   "source": [
    "releases_w_location = len(df[df[\"location\"].notnull()])\n",
    "releases_w_location"
   ]
  },
  {
   "cell_type": "code",
   "execution_count": 22,
   "id": "18759fb2-0652-4eae-90e0-599afb0e3447",
   "metadata": {},
   "outputs": [
    {
     "data": {
      "text/plain": [
       "3.5"
      ]
     },
     "execution_count": 22,
     "metadata": {},
     "output_type": "execute_result"
    }
   ],
   "source": [
    "round((releases_w_location / total_releases) * 100, 1)"
   ]
  },
  {
   "cell_type": "markdown",
   "id": "8191e367-db7f-42c9-b070-58233659c885",
   "metadata": {},
   "source": [
    "#### Geocode the locations, even though they are incomplete"
   ]
  },
  {
   "cell_type": "code",
   "execution_count": 23,
   "id": "53d01792-f73f-4e16-8049-a103db7419dc",
   "metadata": {},
   "outputs": [],
   "source": [
    "gmaps = googlemaps.Client(key=google_key)"
   ]
  },
  {
   "cell_type": "code",
   "execution_count": 24,
   "id": "bb876ec9-9c05-47fe-9341-e759f2c68a3a",
   "metadata": {},
   "outputs": [],
   "source": [
    "def geocode_location(location):\n",
    "    \"\"\"Geocode a location string using Google Maps API and return lat, lon coordinates.\"\"\"\n",
    "    try:\n",
    "        # Make sure the gmaps client is correctly referenced and used here\n",
    "        geocode_result = gmaps.geocode(location)\n",
    "\n",
    "        if geocode_result and len(geocode_result) > 0:\n",
    "            lat = geocode_result[0][\"geometry\"][\"location\"][\"lat\"]\n",
    "            lon = geocode_result[0][\"geometry\"][\"location\"][\"lng\"]\n",
    "            return lat, lon\n",
    "        else:\n",
    "            return None, None\n",
    "    except Exception as e:\n",
    "        print(f\"Error geocoding {location}: {e}\")\n",
    "        return None, None"
   ]
  },
  {
   "cell_type": "markdown",
   "id": "5d8e6d43-f189-438a-8265-2a94bfee3aa3",
   "metadata": {},
   "source": [
    "#### Add empty columns for latitude and longitude if they don't exist"
   ]
  },
  {
   "cell_type": "code",
   "execution_count": 25,
   "id": "f48db622-dde4-4daf-a6f4-a642aad8eef2",
   "metadata": {},
   "outputs": [],
   "source": [
    "if \"latitude\" not in df.columns:\n",
    "    df[\"latitude\"] = None\n",
    "if \"longitude\" not in df.columns:\n",
    "    df[\"longitude\"] = None"
   ]
  },
  {
   "cell_type": "markdown",
   "id": "f72332e2-9f8e-4468-8cf1-c29664b33bcd",
   "metadata": {},
   "source": [
    "#### Iterate through DataFrame rows and apply geocoding for non-null locations"
   ]
  },
  {
   "cell_type": "code",
   "execution_count": 26,
   "id": "e25badbe-104d-4324-9f9b-0f58e911e11e",
   "metadata": {},
   "outputs": [
    {
     "data": {
      "application/vnd.jupyter.widget-view+json": {
       "model_id": "6f03631a5e1f4cfdb932f8271a22090e",
       "version_major": 2,
       "version_minor": 0
      },
      "text/plain": [
       "  0%|          | 0/638 [00:00<?, ?it/s]"
      ]
     },
     "metadata": {},
     "output_type": "display_data"
    }
   ],
   "source": [
    "for index, row in tqdm(\n",
    "    df[df[\"location\"].notnull()].iterrows(), total=df[\"location\"].notnull().sum()\n",
    "):\n",
    "\n",
    "    lat, lon = geocode_location(row[\"location\"])\n",
    "    df.at[index, \"latitude\"] = lat\n",
    "    df.at[index, \"longitude\"] = lon"
   ]
  },
  {
   "cell_type": "markdown",
   "id": "7bda9a99-0702-4640-9e5e-95e8abceda37",
   "metadata": {},
   "source": [
    "### Keywords"
   ]
  },
  {
   "cell_type": "markdown",
   "id": "e355592f-7846-4518-acb7-018f9f00eb9e",
   "metadata": {},
   "source": [
    "#### Function to clean and extract keywords from a headline"
   ]
  },
  {
   "cell_type": "code",
   "execution_count": 27,
   "id": "d8a8594e-86e0-42f7-8ce3-2ac3531ffd54",
   "metadata": {},
   "outputs": [],
   "source": [
    "def extract_keywords(headline):\n",
    "    # Lowercase and remove non-alphabetic characters\n",
    "    headline = re.sub(r\"[^a-zA-Z\\s]\", \"\", headline.lower())\n",
    "\n",
    "    # Tokenize the headline\n",
    "    tokens = word_tokenize(headline)\n",
    "\n",
    "    # Remove stopwords\n",
    "    tokens = [token for token in tokens if token not in stopwords.words(\"english\")]\n",
    "\n",
    "    # Tag parts of speech\n",
    "    tags = nltk.pos_tag(tokens)\n",
    "\n",
    "    # Extract nouns\n",
    "    keywords = [word for word, tag in tags if tag in [\"NN\", \"NNS\", \"NNP\", \"NNPS\"]]\n",
    "\n",
    "    return keywords"
   ]
  },
  {
   "cell_type": "markdown",
   "id": "5cf17d49-3a94-43d5-8fc3-7222993fd9ab",
   "metadata": {},
   "source": [
    "#### Apply keyword extraction to each headline"
   ]
  },
  {
   "cell_type": "code",
   "execution_count": 28,
   "id": "c2824a8f-9a10-4a5d-84a3-be413e70c394",
   "metadata": {},
   "outputs": [],
   "source": [
    "df[\"keywords\"] = df[\"headline\"].apply(extract_keywords)"
   ]
  },
  {
   "cell_type": "markdown",
   "id": "2be58a7f-b653-4215-8e44-66d2cefd758e",
   "metadata": {},
   "source": [
    "#### Example: Display the first few entries to verify"
   ]
  },
  {
   "cell_type": "code",
   "execution_count": 29,
   "id": "97df5f92-e3c2-44cb-9c22-87550f09ec5b",
   "metadata": {},
   "outputs": [
    {
     "data": {
      "text/plain": [
       "6198                                                                                                           [nominations, senate]\n",
       "5856                                                                                                [proclamation, americans, covid]\n",
       "10445                                                                                         [remarks, president, press, september]\n",
       "7912     [statement, advisor, chief, spokesperson, symone, sanders, vice, president, call, security, secretary, alejandro, mayorkas]\n",
       "7858                                                                        [president, joseph, r, biden, jr, disaster, declaration]\n",
       "Name: keywords, dtype: object"
      ]
     },
     "execution_count": 29,
     "metadata": {},
     "output_type": "execute_result"
    }
   ],
   "source": [
    "df.keywords.sample(5)"
   ]
  },
  {
   "cell_type": "markdown",
   "id": "bc053a3b-b411-4a48-8ef1-bbc5d50482af",
   "metadata": {},
   "source": [
    "### Count keywords"
   ]
  },
  {
   "cell_type": "markdown",
   "id": "45dc02a4-00a6-4b8f-a0ba-23af6c76838e",
   "metadata": {},
   "source": [
    "#### Define additional stop words specific to this context"
   ]
  },
  {
   "cell_type": "code",
   "execution_count": 30,
   "id": "35ac3039-065e-4d97-818f-ba57f6a1cbe4",
   "metadata": {},
   "outputs": [],
   "source": [
    "additional_stopwords = [\n",
    "    \"president\",\n",
    "    \"biden\",\n",
    "    \"trump\",\n",
    "    \"harris\",\n",
    "    \"pence\",\n",
    "    \"vice\",\n",
    "    \"jill\",\n",
    "    \"lady\",\n",
    "    \"joe\",\n",
    "    \"joseph\",\n",
    "    \"trump\",\n",
    "    \"donald\",\n",
    "    \"presidential\",\n",
    "    \"remarks\",\n",
    "    \"release\",\n",
    "    \"statement\",\n",
    "    \"proclamation\",\n",
    "    \"declaration\",\n",
    "    \"announces\",\n",
    "    \"press\",\n",
    "    \"senior\",\n",
    "    \"secretary\",\n",
    "    \"national\",\n",
    "    \"readout\",\n",
    "    \"fact\",\n",
    "    \"sheet\",\n",
    "    \"security\",\n",
    "    \"white\",\n",
    "    \"house\",\n",
    "    \"administration\",\n",
    "    \"advisor\",\n",
    "    \"briefing\",\n",
    "    \"minister\",\n",
    "    \"prime\",\n",
    "    \"jen\",\n",
    "    \"psaki\",\n",
    "    \"jake\",\n",
    "    \"sullivan\",\n",
    "    \"executive\",\n",
    "    \"call\",\n",
    "    \"united\",\n",
    "    \"states\",\n",
    "    \"karine\",\n",
    "    \"jill\",\n",
    "    \"spokesperson\",\n",
    "]"
   ]
  },
  {
   "cell_type": "markdown",
   "id": "1fff32c3-ba37-4305-92ad-f39de01f1a20",
   "metadata": {},
   "source": [
    "#### Combine nltk's English stopwords with your additional ones"
   ]
  },
  {
   "cell_type": "code",
   "execution_count": 31,
   "id": "95bb6cff-8a34-4eb1-a521-816d85fd1aa4",
   "metadata": {},
   "outputs": [],
   "source": [
    "stop_words = set(stopwords.words(\"english\")).union(set(additional_stopwords))"
   ]
  },
  {
   "cell_type": "code",
   "execution_count": 32,
   "id": "d2388fd3-2ff2-49b2-b729-12be1be87a4a",
   "metadata": {},
   "outputs": [],
   "source": [
    "def get_keywords_by_president(president_name):\n",
    "    # Filter dataframe by president and then concatenate all headlines into a single string\n",
    "    headlines = \" \".join(\n",
    "        df[df[\"president\"].str.lower() == president_name.lower()][\"headline\"].tolist()\n",
    "    )\n",
    "\n",
    "    # Tokenize the headlines and filter out stopwords and non-alphabetic characters\n",
    "    tokens = [\n",
    "        word.lower()\n",
    "        for word in word_tokenize(headlines)\n",
    "        if word.isalpha() and word.lower() not in stop_words\n",
    "    ]\n",
    "\n",
    "    # Count word frequency\n",
    "    word_counts = Counter(tokens)\n",
    "\n",
    "    # Return the common words\n",
    "    return word_counts.most_common(50)"
   ]
  },
  {
   "cell_type": "markdown",
   "id": "7c7bee84-6903-4b57-ab2c-fa195714c36e",
   "metadata": {},
   "source": [
    "#### Count the keywords"
   ]
  },
  {
   "cell_type": "code",
   "execution_count": 33,
   "id": "0541db50-9f28-4ee7-aa86-639735d94653",
   "metadata": {},
   "outputs": [],
   "source": [
    "biden_keywords = get_keywords_by_president(\"Biden\")\n",
    "trump_keywords = get_keywords_by_president(\"Trump\")"
   ]
  },
  {
   "cell_type": "markdown",
   "id": "ef8ca5a5-368b-4d84-a4a9-3dd98e68d2cd",
   "metadata": {},
   "source": [
    "#### Create a dataframe for each president's keywords"
   ]
  },
  {
   "cell_type": "code",
   "execution_count": 34,
   "id": "79a8d0c2-7d28-4c5a-a242-3986c8e0e27f",
   "metadata": {},
   "outputs": [],
   "source": [
    "df_biden = pd.DataFrame(biden_keywords, columns=[\"keyword\", \"count\"])\n",
    "df_biden[\"president\"] = \"biden\"\n",
    "df_trump = pd.DataFrame(trump_keywords, columns=[\"keyword\", \"count\"])\n",
    "df_trump[\"president\"] = \"trump\""
   ]
  },
  {
   "cell_type": "markdown",
   "id": "a76736ff-f4b0-4946-9a88-0c9459a882b9",
   "metadata": {},
   "source": [
    "#### Concatenate the two, filtering only to words both administrations used"
   ]
  },
  {
   "cell_type": "code",
   "execution_count": 35,
   "id": "8a3ec9de-9201-4473-b0f2-70639a17be43",
   "metadata": {},
   "outputs": [],
   "source": [
    "total_releases_biden = df[df[\"president\"].str.lower() == \"biden\"].shape[0]\n",
    "total_releases_trump = df[df[\"president\"].str.lower() == \"trump\"].shape[0]\n",
    "\n",
    "df_keywords = (\n",
    "    pd.concat([df_biden, df_trump], ignore_index=True)\n",
    "    .pivot_table(index=\"keyword\", values=\"count\", columns=\"president\")\n",
    "    .reset_index()\n",
    "    .dropna()\n",
    "    .reset_index(drop=True)\n",
    ")\n",
    "# Normalize the counts\n",
    "df_keywords[\"biden_normalized\"] = (\n",
    "    (df_keywords[\"biden\"] / total_releases_biden) * 100\n",
    ").round(2)\n",
    "df_keywords[\"trump_normalized\"] = (\n",
    "    (df_keywords[\"trump\"] / total_releases_trump) * 100\n",
    ").round(2)"
   ]
  },
  {
   "cell_type": "code",
   "execution_count": 36,
   "id": "ffd92d80-6605-4430-b50e-a6d18d29d552",
   "metadata": {},
   "outputs": [
    {
     "data": {
      "image/png": "[encoded data removed]",
      "text/plain": [
       "<Figure size 800x400 with 1 Axes>"
      ]
     },
     "metadata": {},
     "output_type": "display_data"
    }
   ],
   "source": [
    "# Assuming df_keywords is your DataFrame and it contains the normalized counts for Biden and Trump\n",
    "top_keywords = df_keywords.sort_values(by=\"biden_normalized\", ascending=False)\n",
    "\n",
    "# Creating indices for the x-axis positions\n",
    "x_indices = np.arange(len(top_keywords))\n",
    "\n",
    "# Bar width\n",
    "bar_width = 0.35\n",
    "\n",
    "fig, ax = plt.subplots(figsize=(8, 4))\n",
    "\n",
    "# Plotting both Biden and Trump keyword frequencies\n",
    "biden_bars = ax.bar(\n",
    "    x_indices - bar_width / 2,\n",
    "    top_keywords[\"biden_normalized\"],\n",
    "    bar_width,\n",
    "    label=\"Biden\",\n",
    ")\n",
    "trump_bars = ax.bar(\n",
    "    x_indices + bar_width / 2,\n",
    "    top_keywords[\"trump_normalized\"],\n",
    "    bar_width,\n",
    "    label=\"Trump\",\n",
    ")\n",
    "\n",
    "# Adding some text for labels, title, and custom x-axis tick labels, etc.\n",
    "ax.set_xlabel(\"Keywords\")\n",
    "ax.set_ylabel(\"Normalized frequency\")\n",
    "ax.set_title(\"Top keywords normalized frequency: Biden vs. Trump\")\n",
    "ax.set_xticks(x_indices)\n",
    "ax.set_xticklabels(top_keywords[\"keyword\"], rotation=45, ha=\"right\")\n",
    "ax.legend()\n",
    "\n",
    "# Adding a legend and a tight layout\n",
    "ax.legend()\n",
    "plt.tight_layout()\n",
    "plt.show()"
   ]
  },
  {
   "cell_type": "markdown",
   "id": "f086ed73-e684-40aa-aa42-aa3aa9b157d3",
   "metadata": {},
   "source": [
    "### Counting vice presidential mentions"
   ]
  },
  {
   "cell_type": "markdown",
   "id": "6518bde9-cbf6-4b5c-b2d2-e893fe415b6c",
   "metadata": {},
   "source": [
    "#### How many times did each presidential press release mention the vice president? "
   ]
  },
  {
   "cell_type": "code",
   "execution_count": 37,
   "id": "f521c668-65ee-4645-afb3-b106f41f7dec",
   "metadata": {},
   "outputs": [],
   "source": [
    "df[\"headline_lower\"] = df[\"headline\"].str.lower()"
   ]
  },
  {
   "cell_type": "markdown",
   "id": "7506d38b-bf71-46b3-accf-c1e015030cf0",
   "metadata": {},
   "source": [
    "#### Define keywords to search for in headlines"
   ]
  },
  {
   "cell_type": "code",
   "execution_count": 38,
   "id": "11d6154d-d71b-4dd9-8a9e-40ce430f7f1c",
   "metadata": {},
   "outputs": [],
   "source": [
    "biden_vp_keywords = [\"harris\"]\n",
    "trump_vp_keywords = [\"pence\"]"
   ]
  },
  {
   "cell_type": "markdown",
   "id": "fc153d96-e43b-46dd-ae7e-d90fe81853e8",
   "metadata": {},
   "source": [
    "#### Count the total number of releases for each president"
   ]
  },
  {
   "cell_type": "code",
   "execution_count": 39,
   "id": "77c656ef-6aa1-4d20-9f47-13c4589f5f37",
   "metadata": {},
   "outputs": [],
   "source": [
    "total_releases_biden = df[df[\"president\"].str.lower() == \"biden\"].shape[0]\n",
    "total_releases_trump = df[df[\"president\"].str.lower() == \"trump\"].shape[0]"
   ]
  },
  {
   "cell_type": "markdown",
   "id": "6139c593-bc77-4bce-bdb6-2c318e5968ff",
   "metadata": {},
   "source": [
    "#### Function to count mentions and normalize by total releases"
   ]
  },
  {
   "cell_type": "code",
   "execution_count": 40,
   "id": "f3a6745b-9b6f-418c-9181-0201eb9898c5",
   "metadata": {},
   "outputs": [],
   "source": [
    "def count_vp_mentions_normalized(df, president_name, keywords):\n",
    "    president_df = df[df[\"president\"].str.lower() == president_name.lower()]\n",
    "    mentions_count = (\n",
    "        president_df[\"headline_lower\"]\n",
    "        .apply(lambda x: any(keyword.lower() in x for keyword in keywords))\n",
    "        .sum()\n",
    "    )\n",
    "    total_releases = president_df.shape[0]\n",
    "    return (\n",
    "        mentions_count,\n",
    "        total_releases,\n",
    "        mentions_count / total_releases if total_releases > 0 else 0,\n",
    "    )"
   ]
  },
  {
   "cell_type": "markdown",
   "id": "91765a48-9d1f-4820-8f22-c971326edca7",
   "metadata": {},
   "source": [
    "#### Count and normalize mentions for each vice president"
   ]
  },
  {
   "cell_type": "code",
   "execution_count": 41,
   "id": "c41ceaa3-1dbe-4786-a366-4d0b5a207009",
   "metadata": {},
   "outputs": [
    {
     "name": "stdout",
     "output_type": "stream",
     "text": [
      "Vice President in Biden's press releases: 1437 out of 9922 releases (14.48%)\n",
      "Vice President in Trump's press releases: 763 out of 8478 releases (9.00%)\n"
     ]
    }
   ],
   "source": [
    "biden_vp_mentions, biden_total, biden_normalized = count_vp_mentions_normalized(\n",
    "    df, \"Biden\", biden_vp_keywords\n",
    ")\n",
    "trump_vp_mentions, trump_total, trump_normalized = count_vp_mentions_normalized(\n",
    "    df, \"Trump\", trump_vp_keywords\n",
    ")\n",
    "\n",
    "print(\n",
    "    f\"Vice President in Biden's press releases: {biden_vp_mentions} out of {biden_total} releases ({biden_normalized:.2%})\"\n",
    ")\n",
    "print(\n",
    "    f\"Vice President in Trump's press releases: {trump_vp_mentions} out of {trump_total} releases ({trump_normalized:.2%})\"\n",
    ")"
   ]
  },
  {
   "cell_type": "markdown",
   "id": "2fad8798-4727-4776-b537-ec62868c2da4",
   "metadata": {},
   "source": [
    "---"
   ]
  },
  {
   "cell_type": "markdown",
   "id": "aad1c729-1c63-4cd3-bcd0-0f48b6800b5b",
   "metadata": {},
   "source": [
    "## Export"
   ]
  },
  {
   "cell_type": "markdown",
   "id": "fa4de10c-a1ae-4bc7-a168-d912358bf9cb",
   "metadata": {},
   "source": [
    "#### All to CSV & JSON"
   ]
  },
  {
   "cell_type": "code",
   "execution_count": 42,
   "id": "2c047d4b-436c-429d-8529-e21171048305",
   "metadata": {},
   "outputs": [],
   "source": [
    "df.to_csv(f\"../data/processed/biden_trump_releases_metadata_keywords.csv\", index=False)"
   ]
  },
  {
   "cell_type": "code",
   "execution_count": 43,
   "id": "b352ceb9-97db-4cc7-a9ff-7ea421aa242c",
   "metadata": {},
   "outputs": [],
   "source": [
    "df.to_json(\n",
    "    f\"../data/processed/biden_trump_releases_metadata_keywords.json\",\n",
    "    indent=4,\n",
    "    orient=\"records\",\n",
    ")"
   ]
  }
 ],
 "metadata": {
  "kernelspec": {
   "display_name": "Python 3 (ipykernel)",
   "language": "python",
   "name": "python3"
  },
  "language_info": {
   "codemirror_mode": {
    "name": "ipython",
    "version": 3
   },
   "file_extension": ".py",
   "mimetype": "text/x-python",
   "name": "python",
   "nbconvert_exporter": "python",
   "pygments_lexer": "ipython3",
   "version": "3.10.9"
  }
 },
 "nbformat": 4,
 "nbformat_minor": 5
}
