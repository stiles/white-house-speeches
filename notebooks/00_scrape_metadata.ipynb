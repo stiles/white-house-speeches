{
 "cells": [
  {
   "cell_type": "markdown",
   "id": "eb06fdb3-f9df-4c40-98c2-17d369fcead2",
   "metadata": {},
   "source": [
    "# Collect presidential news releases and remarks\n",
    "> Run all the notebooks at once"
   ]
  },
  {
   "cell_type": "code",
   "execution_count": 1,
   "id": "c4a05925-8306-44dc-97cb-1c6ee6c2a552",
   "metadata": {},
   "outputs": [],
   "source": [
    "import concurrent.futures\n",
    "import requests"
   ]
  },
  {
   "cell_type": "markdown",
   "id": "a09dc094-107f-4a98-9e10-e749d237feec",
   "metadata": {},
   "source": [
    "## Metadata\n",
    "> Get the basics about each release, tagged by type and date"
   ]
  },
  {
   "cell_type": "markdown",
   "id": "04aea46f-1fd1-4045-873c-11fc3764bd26",
   "metadata": {},
   "source": [
    "#### Function for magic command"
   ]
  },
  {
   "cell_type": "code",
   "execution_count": 2,
   "id": "939074a5-5c14-4137-9f61-b84e0986d4d8",
   "metadata": {},
   "outputs": [],
   "source": [
    "def run_notebook(notebook_path):\n",
    "    %run $notebook_path"
   ]
  },
  {
   "cell_type": "markdown",
   "id": "e9b842ad-54f1-408e-aecf-0dd2fb713b24",
   "metadata": {},
   "source": [
    "#### List of notebook paths"
   ]
  },
  {
   "cell_type": "code",
   "execution_count": 3,
   "id": "2322018a-c3e4-4cdf-bfb8-d656d720c23b",
   "metadata": {},
   "outputs": [],
   "source": [
    "notebooks = [\n",
    "    \"biden/00_scrape_release_metadata.ipynb\",\n",
    "    \"trump/00_scrape_release_metadata.ipynb\",\n",
    "    \"metadata_topic_extraction.ipynb\"\n",
    "]"
   ]
  },
  {
   "cell_type": "code",
   "execution_count": null,
   "id": "429eaf89-62a3-4191-a0a0-669244524562",
   "metadata": {},
   "outputs": [],
   "source": [
    "for n in notebooks:\n",
    "    run_notebook(n)"
   ]
  }
 ],
 "metadata": {
  "kernelspec": {
   "display_name": "Python 3 (ipykernel)",
   "language": "python",
   "name": "python3"
  },
  "language_info": {
   "codemirror_mode": {
    "name": "ipython",
    "version": 3
   },
   "file_extension": ".py",
   "mimetype": "text/x-python",
   "name": "python",
   "nbconvert_exporter": "python",
   "pygments_lexer": "ipython3",
   "version": "3.10.9"
  }
 },
 "nbformat": 4,
 "nbformat_minor": 5
}
