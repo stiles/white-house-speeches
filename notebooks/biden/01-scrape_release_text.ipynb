{
 "cells": [
  {
   "cell_type": "markdown",
   "id": "8d8c727d-dbdb-4aa8-b80f-f1bfa0331534",
   "metadata": {},
   "source": [
    "# Scrape White House press release text"
   ]
  },
  {
   "cell_type": "markdown",
   "id": "a1757991-884f-4258-9af2-d71d34f03f76",
   "metadata": {},
   "source": [
    "> Use the requests library to read each of the Biden's administration's [press releases](https://www.whitehouse.gov/briefing-room)."
   ]
  },
  {
   "cell_type": "markdown",
   "id": "0b107a0d-19e7-4559-ae98-c607df41a5da",
   "metadata": {},
   "source": [
    "---"
   ]
  },
  {
   "cell_type": "markdown",
   "id": "1f586bf2-be53-459f-8bcc-ee6feb1dfd32",
   "metadata": {},
   "source": [
    "## Config"
   ]
  },
  {
   "cell_type": "markdown",
   "id": "9c6c6d52-28c5-468e-a5d6-595a37de7e7e",
   "metadata": {},
   "source": [
    "#### Python tools and Jupyter settings"
   ]
  },
  {
   "cell_type": "code",
   "execution_count": 9,
   "id": "b6134237-86ab-4838-8524-fa7a92521b83",
   "metadata": {},
   "outputs": [],
   "source": [
    "import json\n",
    "import requests\n",
    "import pandas as pd\n",
    "import jupyter_black\n",
    "import altair as alt\n",
    "from bs4 import BeautifulSoup\n",
    "from tqdm.notebook import tqdm"
   ]
  },
  {
   "cell_type": "code",
   "execution_count": 2,
   "id": "5c7ff6dc-5823-45a5-a471-1fd776a0d56b",
   "metadata": {},
   "outputs": [
    {
     "data": {
      "text/html": [
       "\n",
       "                <script type=\"application/javascript\" id=\"jupyter_black\">\n",
       "                (function() {\n",
       "                    if (window.IPython === undefined) {\n",
       "                        return\n",
       "                    }\n",
       "                    var msg = \"WARNING: it looks like you might have loaded \" +\n",
       "                        \"jupyter_black in a non-lab notebook with \" +\n",
       "                        \"`is_lab=True`. Please double check, and if \" +\n",
       "                        \"loading with `%load_ext` please review the README!\"\n",
       "                    console.log(msg)\n",
       "                    alert(msg)\n",
       "                })()\n",
       "                </script>\n",
       "                "
      ],
      "text/plain": [
       "<IPython.core.display.HTML object>"
      ]
     },
     "metadata": {},
     "output_type": "display_data"
    }
   ],
   "source": [
    "jupyter_black.load()\n",
    "pd.options.display.max_columns = 100\n",
    "pd.options.display.max_rows = 100\n",
    "pd.options.display.max_colwidth = None"
   ]
  },
  {
   "cell_type": "code",
   "execution_count": 3,
   "id": "6f323e1a-526a-45e5-bf65-9d827754846a",
   "metadata": {},
   "outputs": [],
   "source": [
    "today = pd.Timestamp(\"today\").strftime(\"%Y-%m-%d\")"
   ]
  },
  {
   "cell_type": "markdown",
   "id": "b09e6202-e6f2-4968-9f36-92cb7af8a939",
   "metadata": {},
   "source": [
    "---"
   ]
  },
  {
   "cell_type": "markdown",
   "id": "fb22d1db-3553-4446-96ce-a0a4bfb1c40a",
   "metadata": {},
   "source": [
    "## Read data"
   ]
  },
  {
   "cell_type": "markdown",
   "id": "4f1cbec7-77e9-4191-8737-4537b9f08b67",
   "metadata": {},
   "source": [
    "#### Read the metadata scraped in `00` notebook"
   ]
  },
  {
   "cell_type": "code",
   "execution_count": null,
   "id": "97f921a9-4443-4810-a449-2359a55b1b9d",
   "metadata": {},
   "outputs": [],
   "source": [
    "df = pd.read_json(\"../../data/processed/biden_trump_releases_metadata_keywords.json\")"
   ]
  },
  {
   "cell_type": "code",
   "execution_count": 22,
   "id": "3dea998d-45f1-4615-99c3-f6f75bd2861c",
   "metadata": {},
   "outputs": [
    {
     "data": {
      "text/html": [
       "<div>\n",
       "<style scoped>\n",
       "    .dataframe tbody tr th:only-of-type {\n",
       "        vertical-align: middle;\n",
       "    }\n",
       "\n",
       "    .dataframe tbody tr th {\n",
       "        vertical-align: top;\n",
       "    }\n",
       "\n",
       "    .dataframe thead th {\n",
       "        text-align: right;\n",
       "    }\n",
       "</style>\n",
       "<table border=\"1\" class=\"dataframe\">\n",
       "  <thead>\n",
       "    <tr style=\"text-align: right;\">\n",
       "      <th></th>\n",
       "      <th>headline</th>\n",
       "      <th>url</th>\n",
       "      <th>date_str</th>\n",
       "      <th>category</th>\n",
       "      <th>page</th>\n",
       "      <th>location</th>\n",
       "      <th>date</th>\n",
       "      <th>president</th>\n",
       "      <th>issue_flag</th>\n",
       "      <th>derived_category</th>\n",
       "      <th>latitude</th>\n",
       "      <th>longitude</th>\n",
       "      <th>keywords</th>\n",
       "      <th>headline_lower</th>\n",
       "    </tr>\n",
       "  </thead>\n",
       "  <tbody>\n",
       "    <tr>\n",
       "      <th>0</th>\n",
       "      <td>Remarks as Prepared for Delivery by First Lady Jill Biden at the Human Rights Campaign 2024 Los Angeles Dinner</td>\n",
       "      <td>https://www.whitehouse.gov/briefing-room/speeches-remarks/2024/03/24/remarks-as-prepared-for-delivery-by-first-lady-jill-biden-at-the-human-rights-campaign-2024-los-angeles-dinner/</td>\n",
       "      <td>March 24, 2024</td>\n",
       "      <td>Speeches and Remarks</td>\n",
       "      <td>1</td>\n",
       "      <td>None</td>\n",
       "      <td>2024-03-24</td>\n",
       "      <td>biden</td>\n",
       "      <td>Not specified</td>\n",
       "      <td>Speeches and Remarks</td>\n",
       "      <td>NaN</td>\n",
       "      <td>NaN</td>\n",
       "      <td>[remarks, delivery, jill, rights, campaign, los, angeles, dinner]</td>\n",
       "      <td>remarks as prepared for delivery by first lady jill biden at the human rights campaign 2024 los angeles dinner</td>\n",
       "    </tr>\n",
       "    <tr>\n",
       "      <th>1</th>\n",
       "      <td>Remarks by Vice President Harris on Gun Violence Prevention While at Marjory Stoneman Douglas High School | Parkland, FL</td>\n",
       "      <td>https://www.whitehouse.gov/briefing-room/speeches-remarks/2024/03/23/remarks-by-vice-president-harris-on-gun-violence-prevention-while-at-marjory-stoneman-douglas-high-school-parkland-fl/</td>\n",
       "      <td>March 23, 2024</td>\n",
       "      <td>Speeches and Remarks</td>\n",
       "      <td>1</td>\n",
       "      <td>Parkland, FL</td>\n",
       "      <td>2024-03-23</td>\n",
       "      <td>biden</td>\n",
       "      <td>Not specified</td>\n",
       "      <td>Speeches and Remarks</td>\n",
       "      <td>26.310777</td>\n",
       "      <td>-80.253225</td>\n",
       "      <td>[remarks, vice, president, harris, gun, violence, prevention, marjory, douglas, school, parkland, fl]</td>\n",
       "      <td>remarks by vice president harris on gun violence prevention while at marjory stoneman douglas high school | parkland, fl</td>\n",
       "    </tr>\n",
       "    <tr>\n",
       "      <th>2</th>\n",
       "      <td>Statement from Press Secretary Karine Jean-Pierre on the Terrorist Attack in Moscow</td>\n",
       "      <td>https://www.whitehouse.gov/briefing-room/statements-releases/2024/03/23/statement-from-press-secretary-karine-jean-pierre-on-the-terrorist-attack-in-moscow/</td>\n",
       "      <td>March 23, 2024</td>\n",
       "      <td>Statements and Releases</td>\n",
       "      <td>1</td>\n",
       "      <td>None</td>\n",
       "      <td>2024-03-23</td>\n",
       "      <td>biden</td>\n",
       "      <td>Not specified</td>\n",
       "      <td>Statements and Releases</td>\n",
       "      <td>NaN</td>\n",
       "      <td>NaN</td>\n",
       "      <td>[statement, press, secretary, karine, attack, moscow]</td>\n",
       "      <td>statement from press secretary karine jean-pierre on the terrorist attack in moscow</td>\n",
       "    </tr>\n",
       "    <tr>\n",
       "      <th>3</th>\n",
       "      <td>Press Release: Letter to the Speaker of the House and President of the Senate: Designation of Funding as Emergency Requirements in Accordance with Section 6 of the Further Consolidated Appropriations Act, 2024</td>\n",
       "      <td>https://www.whitehouse.gov/briefing-room/presidential-actions/2024/03/23/press-release-letter-to-the-speaker-of-the-house-and-president-of-the-senate-designation-of-funding-as-emergency-requirements-in-accordance-with-section-6-of-the-further-consolidated-appropriations/</td>\n",
       "      <td>March 23, 2024</td>\n",
       "      <td>Presidential Actions</td>\n",
       "      <td>1</td>\n",
       "      <td>None</td>\n",
       "      <td>2024-03-23</td>\n",
       "      <td>biden</td>\n",
       "      <td>Not specified</td>\n",
       "      <td>Presidential Actions</td>\n",
       "      <td>NaN</td>\n",
       "      <td>NaN</td>\n",
       "      <td>[press, release, letter, speaker, house, president, designation, funding, emergency, requirements, accordance, section, appropriations, act]</td>\n",
       "      <td>press release: letter to the speaker of the house and president of the senate: designation of funding as emergency requirements in accordance with section 6 of the further consolidated appropriations act, 2024</td>\n",
       "    </tr>\n",
       "    <tr>\n",
       "      <th>4</th>\n",
       "      <td>Statement from President Joe Biden on the Bipartisan Government Funding Bill</td>\n",
       "      <td>https://www.whitehouse.gov/briefing-room/statements-releases/2024/03/23/statement-from-president-joe-biden-on-the-bipartisan-government-funding-bill/</td>\n",
       "      <td>March 23, 2024</td>\n",
       "      <td>Statements and Releases</td>\n",
       "      <td>1</td>\n",
       "      <td>None</td>\n",
       "      <td>2024-03-23</td>\n",
       "      <td>biden</td>\n",
       "      <td>Not specified</td>\n",
       "      <td>Statements and Releases</td>\n",
       "      <td>NaN</td>\n",
       "      <td>NaN</td>\n",
       "      <td>[statement, president, joe, biden, government, funding, bill]</td>\n",
       "      <td>statement from president joe biden on the bipartisan government funding bill</td>\n",
       "    </tr>\n",
       "  </tbody>\n",
       "</table>\n",
       "</div>"
      ],
      "text/plain": [
       "                                                                                                                                                                                                            headline  \\\n",
       "0                                                                                                     Remarks as Prepared for Delivery by First Lady Jill Biden at the Human Rights Campaign 2024 Los Angeles Dinner   \n",
       "1                                                                                           Remarks by Vice President Harris on Gun Violence Prevention While at Marjory Stoneman Douglas High School | Parkland, FL   \n",
       "2                                                                                                                                Statement from Press Secretary Karine Jean-Pierre on the Terrorist Attack in Moscow   \n",
       "3  Press Release: Letter to the Speaker of the House and President of the Senate: Designation of Funding as Emergency Requirements in Accordance with Section 6 of the Further Consolidated Appropriations Act, 2024   \n",
       "4                                                                                                                                       Statement from President Joe Biden on the Bipartisan Government Funding Bill   \n",
       "\n",
       "                                                                                                                                                                                                                                                                               url  \\\n",
       "0                                                                                             https://www.whitehouse.gov/briefing-room/speeches-remarks/2024/03/24/remarks-as-prepared-for-delivery-by-first-lady-jill-biden-at-the-human-rights-campaign-2024-los-angeles-dinner/   \n",
       "1                                                                                      https://www.whitehouse.gov/briefing-room/speeches-remarks/2024/03/23/remarks-by-vice-president-harris-on-gun-violence-prevention-while-at-marjory-stoneman-douglas-high-school-parkland-fl/   \n",
       "2                                                                                                                     https://www.whitehouse.gov/briefing-room/statements-releases/2024/03/23/statement-from-press-secretary-karine-jean-pierre-on-the-terrorist-attack-in-moscow/   \n",
       "3  https://www.whitehouse.gov/briefing-room/presidential-actions/2024/03/23/press-release-letter-to-the-speaker-of-the-house-and-president-of-the-senate-designation-of-funding-as-emergency-requirements-in-accordance-with-section-6-of-the-further-consolidated-appropriations/   \n",
       "4                                                                                                                            https://www.whitehouse.gov/briefing-room/statements-releases/2024/03/23/statement-from-president-joe-biden-on-the-bipartisan-government-funding-bill/   \n",
       "\n",
       "         date_str                 category  page       location       date  \\\n",
       "0  March 24, 2024     Speeches and Remarks     1           None 2024-03-24   \n",
       "1  March 23, 2024     Speeches and Remarks     1   Parkland, FL 2024-03-23   \n",
       "2  March 23, 2024  Statements and Releases     1           None 2024-03-23   \n",
       "3  March 23, 2024     Presidential Actions     1           None 2024-03-23   \n",
       "4  March 23, 2024  Statements and Releases     1           None 2024-03-23   \n",
       "\n",
       "  president     issue_flag         derived_category   latitude  longitude  \\\n",
       "0     biden  Not specified     Speeches and Remarks        NaN        NaN   \n",
       "1     biden  Not specified     Speeches and Remarks  26.310777 -80.253225   \n",
       "2     biden  Not specified  Statements and Releases        NaN        NaN   \n",
       "3     biden  Not specified     Presidential Actions        NaN        NaN   \n",
       "4     biden  Not specified  Statements and Releases        NaN        NaN   \n",
       "\n",
       "                                                                                                                                       keywords  \\\n",
       "0                                                                             [remarks, delivery, jill, rights, campaign, los, angeles, dinner]   \n",
       "1                                         [remarks, vice, president, harris, gun, violence, prevention, marjory, douglas, school, parkland, fl]   \n",
       "2                                                                                         [statement, press, secretary, karine, attack, moscow]   \n",
       "3  [press, release, letter, speaker, house, president, designation, funding, emergency, requirements, accordance, section, appropriations, act]   \n",
       "4                                                                                 [statement, president, joe, biden, government, funding, bill]   \n",
       "\n",
       "                                                                                                                                                                                                      headline_lower  \n",
       "0                                                                                                     remarks as prepared for delivery by first lady jill biden at the human rights campaign 2024 los angeles dinner  \n",
       "1                                                                                           remarks by vice president harris on gun violence prevention while at marjory stoneman douglas high school | parkland, fl  \n",
       "2                                                                                                                                statement from press secretary karine jean-pierre on the terrorist attack in moscow  \n",
       "3  press release: letter to the speaker of the house and president of the senate: designation of funding as emergency requirements in accordance with section 6 of the further consolidated appropriations act, 2024  \n",
       "4                                                                                                                                       statement from president joe biden on the bipartisan government funding bill  "
      ]
     },
     "execution_count": 22,
     "metadata": {},
     "output_type": "execute_result"
    }
   ],
   "source": [
    "df.head()"
   ]
  },
  {
   "cell_type": "code",
   "execution_count": null,
   "id": "c7a1386b-4a53-4f45-986a-b27a6d2a6b6b",
   "metadata": {},
   "outputs": [],
   "source": [
    "urls = list(df[\"url\"])"
   ]
  },
  {
   "cell_type": "code",
   "execution_count": 20,
   "id": "f04397c6-c05e-4802-8e86-32e046e3567f",
   "metadata": {},
   "outputs": [
    {
     "data": {
      "text/plain": [
       "['https://www.whitehouse.gov/briefing-room/speeches-remarks/2024/03/24/remarks-as-prepared-for-delivery-by-first-lady-jill-biden-at-the-human-rights-campaign-2024-los-angeles-dinner/',\n",
       " 'https://www.whitehouse.gov/briefing-room/speeches-remarks/2024/03/23/remarks-by-vice-president-harris-on-gun-violence-prevention-while-at-marjory-stoneman-douglas-high-school-parkland-fl/',\n",
       " 'https://www.whitehouse.gov/briefing-room/statements-releases/2024/03/23/statement-from-press-secretary-karine-jean-pierre-on-the-terrorist-attack-in-moscow/',\n",
       " 'https://www.whitehouse.gov/briefing-room/presidential-actions/2024/03/23/press-release-letter-to-the-speaker-of-the-house-and-president-of-the-senate-designation-of-funding-as-emergency-requirements-in-accordance-with-section-6-of-the-further-consolidated-appropriations/']"
      ]
     },
     "execution_count": 20,
     "metadata": {},
     "output_type": "execute_result"
    }
   ],
   "source": [
    "urls[0:4]"
   ]
  },
  {
   "cell_type": "code",
   "execution_count": null,
   "id": "57f2b31d-3312-440e-bfaf-1807da32fc8d",
   "metadata": {},
   "outputs": [],
   "source": []
  },
  {
   "cell_type": "code",
   "execution_count": 21,
   "id": "4107b463-7a42-420d-a9ea-9d0bb64f43e7",
   "metadata": {},
   "outputs": [
    {
     "ename": "IndexError",
     "evalue": "list index out of range",
     "output_type": "error",
     "traceback": [
      "\u001b[0;31m---------------------------------------------------------------------------\u001b[0m",
      "\u001b[0;31mIndexError\u001b[0m                                Traceback (most recent call last)",
      "Cell \u001b[0;32mIn[21], line 12\u001b[0m\n\u001b[1;32m     10\u001b[0m \u001b[38;5;66;03m# Find all <p> tags within the body content section\u001b[39;00m\n\u001b[1;32m     11\u001b[0m paragraphs \u001b[38;5;241m=\u001b[39m body_content_section\u001b[38;5;241m.\u001b[39mfind_all(\u001b[38;5;124m\"\u001b[39m\u001b[38;5;124mp\u001b[39m\u001b[38;5;124m\"\u001b[39m)\n\u001b[0;32m---> 12\u001b[0m paragraphs_center \u001b[38;5;241m=\u001b[39m \u001b[43mbody_content_section\u001b[49m\u001b[38;5;241;43m.\u001b[39;49m\u001b[43mfind_all\u001b[49m\u001b[43m(\u001b[49m\n\u001b[1;32m     13\u001b[0m \u001b[43m    \u001b[49m\u001b[38;5;124;43m\"\u001b[39;49m\u001b[38;5;124;43mp\u001b[39;49m\u001b[38;5;124;43m\"\u001b[39;49m\u001b[43m,\u001b[49m\u001b[43m \u001b[49m\u001b[43mclass_\u001b[49m\u001b[38;5;241;43m=\u001b[39;49m\u001b[38;5;124;43m\"\u001b[39;49m\u001b[38;5;124;43mrow\u001b[39;49m\u001b[38;5;124;43m\"\u001b[39;49m\n\u001b[1;32m     14\u001b[0m \u001b[43m\u001b[49m\u001b[43m)\u001b[49m\u001b[43m[\u001b[49m\u001b[38;5;241;43m0\u001b[39;49m\u001b[43m]\u001b[49m\n\u001b[1;32m     16\u001b[0m \u001b[38;5;66;03m# Iterate through each <p> tag\u001b[39;00m\n\u001b[1;32m     17\u001b[0m \u001b[38;5;28;01mfor\u001b[39;00m p \u001b[38;5;129;01min\u001b[39;00m paragraphs:\n\u001b[1;32m     18\u001b[0m     \u001b[38;5;66;03m# Initialize variables to store location, time, and text for each iteration\u001b[39;00m\n",
      "\u001b[0;31mIndexError\u001b[0m: list index out of range"
     ]
    }
   ],
   "source": [
    "releases_list = []\n",
    "\n",
    "for u in urls[0:4]:\n",
    "    r = requests.get(u)\n",
    "    soup = BeautifulSoup(r.text, \"html.parser\")\n",
    "\n",
    "    # Find the section with class 'body-content'\n",
    "    body_content_section = soup.find(\"section\", class_=\"body-content\")\n",
    "\n",
    "    # Find all <p> tags within the body content section\n",
    "    paragraphs = body_content_section.find_all(\"p\")\n",
    "    paragraphs_center = body_content_section.find_all(\n",
    "        \"p\", class_=\"has-text-align-center\"\n",
    "    )[0]\n",
    "\n",
    "    # Iterate through each <p> tag\n",
    "    for p in paragraphs:\n",
    "        # Initialize variables to store location, time, and text for each iteration\n",
    "        location_one = None\n",
    "        location_two = None\n",
    "        time_begin = None\n",
    "        time_end = None\n",
    "        text_clean = \"\"\n",
    "\n",
    "        # Check if the <p> tag contains location information\n",
    "        if p.find(\"em\"):\n",
    "            location_parts = p.get_text().split(\"<br/>\")\n",
    "            location_one = location_parts[0].strip()\n",
    "            try:\n",
    "                location_two = location_parts[1].replace(\"</em></p>\", \"\").strip()\n",
    "            except IndexError:\n",
    "                pass  # Handle the case when there's no second location part\n",
    "        # Check if the <p> tag contains time information\n",
    "        elif (\n",
    "            p.get_text()\n",
    "            .strip()\n",
    "            .startswith((\"1\", \"2\", \"3\", \"4\", \"5\", \"6\", \"7\", \"8\", \"9\"))\n",
    "        ):\n",
    "            time_parts = p.get_text().split(\"<br/>\")\n",
    "            time_begin = (\n",
    "                time_parts[0]\n",
    "                .strip()\n",
    "                .replace('<p class=\"has-text-align-center\"><em>', \"\")\n",
    "                .replace(\"<p>\", \"\")\n",
    "            )\n",
    "            try:\n",
    "                time_end = (\n",
    "                    time_parts[-1]\n",
    "                    .strip()\n",
    "                    .replace(\"\\xa0\", \"\")\n",
    "                    .replace(\"END  \", \"\")\n",
    "                    .replace(\"</p>\", \"\")\n",
    "                )\n",
    "            except IndexError:\n",
    "                pass  # Handle the case when there's no time end information\n",
    "            try:\n",
    "                text_clean = p.get_text().split(\"<br/><br/>\", 1)[1]\n",
    "            except IndexError:\n",
    "                text_clean = (\n",
    "                    p.get_text().strip() + \"\\n\"\n",
    "                )  # If no text split, use the whole text\n",
    "        else:\n",
    "            text_clean = p.get_text().strip() + \"\\n\"  # Extract text\n",
    "\n",
    "        # Create a dictionary for the extracted information\n",
    "        text_dict = {\n",
    "            \"loc_one\": location_one,\n",
    "            \"loc_two\": location_two,\n",
    "            \"start\": time_begin,\n",
    "            \"end\": time_end,\n",
    "            \"text\": text_clean,\n",
    "        }\n",
    "\n",
    "        releases_list.append(text_dict)"
   ]
  },
  {
   "cell_type": "code",
   "execution_count": 10,
   "id": "617197f7-0c02-4df3-85b4-d2c21728daeb",
   "metadata": {},
   "outputs": [
    {
     "data": {
      "text/plain": [
       "[{'loc_one': 'CommerzbankMunich, Germany',\n",
       "  'loc_two': None,\n",
       "  'start': None,\n",
       "  'end': None,\n",
       "  'text': ''},\n",
       " {'loc_one': None,\n",
       "  'loc_two': None,\n",
       "  'start': '2:07 P.M. CESTVICE PRESIDENT HARRIS:\\xa0 Good afternoon, everyone.President Zelenskyy, it was my honor to meet with you again.\\xa0 This is our fifth meeting, by my count.\\xa0 And our first meeting was here almost exactly two years ago.I want to thank you for all that you have done and all that you are as a leader.\\xa0 You and I have had many conversations.\\xa0 And it is my honor to say, as part of a public conversation, that you have been an extraordinarily courageous leader and have shown you commitment to the Ukrainian people and to democratic principles, including the most important — one of the most important — which is the importance of sovereignty and territorial integrity.So, it is good to see you again.I was in Munich and have been here to talk about where we stand currently in terms of our relationship to the Ukrainian people and our unyielding commitment, on behalf of the United States, to the Ukrainian people and to their sovereignty, to their freedom.Five years — five — two years ago when I was here, it was to foreshadow the Russian playbook for the world and to outline the steps the United States, along with our allies and partners, would take in response to their aggression.And I shared with the President then — President Zelenskyy — that the United States stands with Ukraine, and we have been proud to stand with Ukraine over the last two years.\\xa0 And President Joe Biden and I will continue to stand with Ukraine, as I said yesterday and as we say every day.Yesterday, we received reports that Aleksey Navalny died in Russia.I met with his wife, Yulia, yesterday, and expressed my outrage and sorrow.In this fight and — I will say that Aleksey Navalny has been a brave leader who stood up against corruption and autocracy, and he stood up for the truth.\\xa0The reports of his death are further proof of Putin’s brutality.\\xa0 It reminds us why our support for Ukraine is so important, because Ukraine is fighting back heroically against Putin’s continued brutality.In Munich two years ago, many thought Kyiv would fall in a matter of days.\\xa0 Yet, thanks to the skill and bravery of the people of Ukraine and the support of the 50-nation coalition the United States has led, Kyiv stands free and strong.President Zelenskyy, that is a testament, as I have said, to your extraordinary leadership and the determination of the people of Ukraine and their willingness to fight for their homes and their homeland, for their freedom and their independence.\\xa0In this fight, Ukraine has achieved significant success against an adversary on an imperialistic quest to subjugate your nation — an adversary with an economy 10 times larger than Ukraine, a population 3 times larger, and a military that once ranked as the second best in the world.You have stood strong in the face of Russia’s advances and countered its aerial assaults.You have regained half the territory Russia controlled at the start of this conflict.You have inflicted major damage on Russia’s fleet in the Black Sea and maintained the flow of grain to world markets.You have kept heat and electricity on in the face of incon- — unconscionable attacks on civilian infrastructure.And you have made a range of reforms that will help accelerate Ukraine’s integration with the West.Because of our collective strength, this war has been an utter failure for Putin.President Zelenskyy, the stakes of your fight remain high for your country and for the entire world.\\xa0 And it is in the strategic interest of the United States to continue our support.International rules and norms are on the line, including the fundamental principles of sovereignty and territorial integrity.History shows us: If we allow an aggressor like Putin to take land with impunity, they keep going.\\xa0 The other would-be aggressors then become emboldened.On this trip to Munich, I have worked with our allies and partners to ensure we stay united and strong in support of Ukraine.Today, President Zelenskyy, you and I had a productive conversation about ongoing support from the United States and the international community, and we spoke of our support for Ukraine on the battlefield.As I said yesterday, you have the support of bipartisan majorities in both houses of the United States Congress.So, as we move forward, the President and I — President Biden and I will continue to work to secure the resources and weapons that you need to succeed.\\xa0 We also will continue to support your efforts to secure a just and lasting peace.\\xa0 We will work to make sure Russia pays damages to Ukraine.\\xa0 And ultimately, we want to see Ukraine emerge from this war as a nation that is free, democratic, and independent.President Zelenskyy, as President Joe Biden and have — and I have made clear, we will be with you for as long as it takes.I thank you again.\\xa0 And thanks —PRESIDENT ZELENSKYY:\\xa0 Thank you so much.VICE PRESIDENT HARRIS:\\xa0 Thank you.PRESIDENT ZELENSKYY:\\xa0 (As interpreted.)\\xa0 Thank you so much, esteemed Madam Vice President, esteemed members of the delegation, dear journalists.\\xa0 I’m glad to have this meeting with Madam Vice President of the United States, Kamala Harris.Thank you so much, Kamala. It is quite natural that main topics of our conversations were security and resilience — security that we, together, build, restore, Ukraine and the United States, by all signs of our cooperation and resilience that we, together, build up when we preserve unity and help each other.I am grateful to Madam Vice President for attention and for your words and for your respect to our nation and for the respect that you have expressed during our meeting to our people, to our warriors, to Ukrainians.\\xa0 Thank you so much for that.And I’m thankful for the vital support and leadership of the United States of America, who helped to unite the world and to stand off against Russian strikes.We shall be together in the future, Ukraine and the United States.\\xa0 And all world — all our partners, we shall continue to build up our security, achieve joint results to increase our resilience against Russian aggression, and each day prove to Putin that his hatred towards people, hatred towards freedom will never prevail over our unity, unity of the free world.Of course, the key issue for us now is the preservation of principle American support.\\xa0 Ukraine and all our warriors need and await of the respective positive vote regarding the assistance package.\\xa0 And I thank to everybody who understands how much depends on this single voting procedure.We have today discussed with Madam Vice President about how significant results were already achieved because of our joint work with the U.S. with partners — in particular, regarding air defenses.\\xa0 American Patriots are the — are the best life-preservation means of people against Russian terror, and each Patriot not only saves hundreds and thousands of lives, but also allows our cities to function normally and therefore our economy.One of Ukrainian goals this year is economic growth.\\xa0 Last year, we have had plus 5 percent GDP.\\xa0 This year, we would need a corresponding growth rate in order to build up more of Ukrainians’ economic independence.The issue of air defense in this regard is the main thing.\\xa0 I have informed Madam Vice President regarding the current situation on the battlefield about our capabilities and perspectives upon the conditions of needed support levels.I have also briefed about — about the ongoing transformation of our state, in particular about decisions that can build up our resilience.\\xa0We have also discussed the preparation of the Global Peace Summit in Switzerland on the level of leaders.\\xa0 One more principal topic is justice — justice of the further pressure on Putin and his regime in all directions.\\xa0 In particular, this year, we need to ensure the confiscation and usage of Russian assets for the sake of protection against Russia’s terror.Putin does not value lives of people.\\xa0 He does not understand and does not respect any rules.\\xa0 The only thing that is important for Putin is money and power.\\xa0 We need a strong decision that would confiscate frozen Russia’s assets.\\xa0 We would need further full-scale pressure with sanctions on Russia in order to constrain Putin’s capabilities to finance this war.I’m glad to praise the proximity of our views on — on absolutely principal issues.Madam Vice President, I’m grateful to you for our conversation.\\xa0 I thank to all American people.\\xa0 I am extremely thankful to Mr. President Biden, to both parties, and both houses in Congress for the vital support.\\xa0 And I’m sure that, together, we can stop Russia.\\xa0 We must stop.Thank you for your attention.\\xa0 Glory to Ukraine.VICE PRESIDENT HARRIS:\\xa0 We will take questions now from the press.\\xa0 Cleve Wootson of the Washington Post.Q\\xa0\\xa0\\xa0 Madam Vice President, hello.VICE PRESIDENT HARRIS:\\xa0 Hello.Q\\xa0\\xa0\\xa0 You’ve spoken about enduring American support for Ukraine and other conflicts this weekend.\\xa0 But this political situation at home, including your own, is anything but uncertain, with President Biden facing poor polling numbers, questions about his age.\\xa0 What skepticism have you faced here about U.S. support in your meetings?\\xa0 And what have you said to try to allay them?And, to President Zelenskyy —PRESIDENT ZELENSKYY:\\xa0 Can you turn on the microphone?\\xa0Q\\xa0\\xa0\\xa0 Is it not on?PRESIDENT ZELENSKYY:\\xa0 No, it’s not on.VICE PRESIDENT HARRIS:\\xa0 Is the interpretation happening?INTERPRETER:\\xa0 Unfortunately, the interpretation is not happening as the — we cannot hear the speaker.PARTICIPANT:\\xa0 The translator didn’t hear you.\\xa0 Can you re-ask?Q\\xa0\\xa0\\xa0 I can certainly re-ask.PRESIDENT ZELENSKYY:\\xa0 Please take this one.\\xa0 It was working.Sorry, I don’t hear.Q\\xa0\\xa0\\xa0 No problem.\\xa0 Want me to ask the question to you again, Madam Vice President?VICE PRESIDENT HARRIS:\\xa0 No, I got it.Q\\xa0\\xa0\\xa0 Okay.\\xa0 And to President Zelenskyy.\\xa0 Let’s pull up my question.\\xa0 The U.S. Congress so far has not approved more military aid for you.\\xa0 Without that aid, does your country have a path to victory?\\xa0 And is the lack of funding a betrayal because President Biden has promised that he would be with you until the very end?VICE PRESIDENT HARRIS:\\xa0 I’ll start.\\xa0 As I made very clear yesterday, the issue of supporting Ukraine and where the United States stands on that issue is integral to who we are as the United States of America.We have historically and currently stand as a global leader on certain fundamental democratic principles, including the principle of sovereignty and territorial integrity.We stand with our friends.\\xa0 Our membership in NATO has been a role that is about a commitment to our allies based on shared principles of what it means to abide by democratic principles that have historically ensured stability and security for those participating in this partnership.As I made very clear yesterday, when we talk about the role of America, as it relates to our support for Ukraine, we must be unwavering and we cannot play political games.\\xa0 Political gamesmanship has no role to play in what is fundamentally about the significance of standing with an ally as it endures an unprovoked aggression.\\xa0Politics should play no role in standing for the fact that Vladimir Putin, through his leadership of Russia, has shown himself to be fundamentally hostile to democratic principles, not to mention what we learned about in the last 24 hours in terms of the killing of Navalny.So, this is about where we stand as a nation.\\xa0 And as it relates to the supplemental, we have been clear, the President and I, both in private conversations with members of the United States Congress and in public.\\xa0 We are clear and certain that for the majority in both the United States Senate and the United States House of Representatives, there is bipartisan support for this approach.\\xa0 There is bipartisan support for what America is and what we stand for.\\xa0And we are unwavering.\\xa0 And that has nothing to do with an election cycle.\\xa0 It has to do with who we are and what kind of country we want to be: one that stands with our friends.President Zelenskyy.PRESIDENT ZELENSKKY:\\xa0 Thank you so much.\\xa0 (As interpreted.)\\xa0 Thank you for this question.We are counting on this positive decision of the Congress.\\xa0 For us, this package is vital.\\xa0 We do not currently look into alternatives because we’re counting on the United States as — as our partner — strategic partner — that this partner will remain strategic partner.If we’re speaking about the alternative, then this means that it will be not our strategic partner.\\xa0 That’s why I’m not looking into such alternative.And we also did not look into such alternatives strategically and politically.\\xa0 Is this package a way to victory?\\xa0 No, this would not be enough because our path to victory is people, the morality of Ukrainian warrior, of people.\\xa0 The assistance packages, sanctions of the partners — that is a big Allied work — and not quarterly work, but on a daily basis.\\xa0 And that’s why it is so important.But it will definitely — this package is a — definitely way forward.\\xa0 And that is a fact.\\xa0 But it would be not victory yet.\\xa0 But moving forward is much, much better than stagnation on the battlefield.Do I believe that this is a betrayal?\\xa0 No, because I do not think that our strategic partner can allow itself to not support Ukraine.\\xa0 This — I do not see the opportunity for strategic partners to take such stance.\\xa0 We see challenges — electoral, internal, political.\\xa0 I do not want to comment on those because that — those are internal processes in the U.S. and of the people of the United States.But I count that the Allied stance will remain.Q\\xa0\\xa0\\xa0 (As interpreted.)\\xa0 Greetings.\\xa0 Nina Kolomiiets, Inter channel.\\xa0 I have a question to Madam Vice President and to Mr. President.We see how difficult it is for the Congress to deal with the assistance to Ukraine.\\xa0 Could you could you please elaborate on why such vital issue to us has been so postponed and whether the United States has a plan B shall the House of Representatives not confirm the assistance package to Ukraine?And also, the question regarding the signature of Ukraine with bilateral security agreements — firstly, with Great Britain; yesterday, with France and Germany.\\xa0 I have a question when the agreement on cooperation in security field will be signed between Ukraine and the United States of America.\\xa0 Perhaps there are already preliminary negotiations on this topic.VICE PRESIDENT HARRIS:\\xa0 There is only plan A, which is to ensure that Ukraine receives what it needs.\\xa0 I will emphasize that an indication of where we can and, frankly, must be is that there is bipartisan support in both of our houses of Congress, on the Senate side and the House of Representatives.\\xa0 And it is my full belief that were the supplemental package and security package to make it to the floor of the House of Representatives, that it would actually pass.I also believe that there is consensus across party lines in the United States Congress that recognizes the — the brutal nature of Moscow’s aggression, and that there must be a response that includes standing by our friends and supporting those who fight against that aggression.And I do believe there is consensus within the United States Congress that the American leadership, elected leaders in the United States Congress must be unified in their opposition to Russia’s aggression, as indicated over the course of the last two-plus years and the last 24 hours.And I do believe also there is consensus within the United States Congress that we must use everything that is available to us to support Ukraine in its fight to become and to maintain itself as an independent and democratic nation.PRESIDENT ZELENSKYY:\\xa0 Thank you for the question.\\xa0 As regards the security guarantees, right?\\xa0 So, regarding the security guarantees, yes, our teams are working.\\xa0 We have held, already, two negotiation rounds, and I’m sure that we will have very powerful document with our partners.However, we have agreed upon that we all need to focus on what is needed right now.\\xa0 That’s why we focus on the work with Congress of the United States.\\xa0 And afterwards, we will move on to security guarantees.VICE PRESIDENT HARRIS:\\xa0 Thank you, all.\\xa0 Thank you.PRESIDENT ZELENSKYY:\\xa0 Thank you so much.\\xa0\\xa0\\xa0\\xa0\\xa0\\xa0\\xa0\\xa0\\xa0\\xa0\\xa0\\xa0\\xa0\\xa0\\xa0\\xa0\\xa0\\xa0\\xa0\\xa0\\xa0\\xa0\\xa0\\xa0\\xa0\\xa0\\xa0\\xa0\\xa0\\xa0 END\\xa0\\xa0\\xa0\\xa0\\xa0\\xa0\\xa0\\xa0\\xa0\\xa0\\xa0 \\xa0\\xa0\\xa0\\xa0 2:28 P.M. CEST',\n",
       "  'end': '2:07 P.M. CESTVICE PRESIDENT HARRIS: Good afternoon, everyone.President Zelenskyy, it was my honor to meet with you again. This is our fifth meeting, by my count. And our first meeting was here almost exactly two years ago.I want to thank you for all that you have done and all that you are as a leader. You and I have had many conversations. And it is my honor to say, as part of a public conversation, that you have been an extraordinarily courageous leader and have shown you commitment to the Ukrainian people and to democratic principles, including the most important — one of the most important — which is the importance of sovereignty and territorial integrity.So, it is good to see you again.I was in Munich and have been here to talk about where we stand currently in terms of our relationship to the Ukrainian people and our unyielding commitment, on behalf of the United States, to the Ukrainian people and to their sovereignty, to their freedom.Five years — five — two years ago when I was here, it was to foreshadow the Russian playbook for the world and to outline the steps the United States, along with our allies and partners, would take in response to their aggression.And I shared with the President then — President Zelenskyy — that the United States stands with Ukraine, and we have been proud to stand with Ukraine over the last two years. And President Joe Biden and I will continue to stand with Ukraine, as I said yesterday and as we say every day.Yesterday, we received reports that Aleksey Navalny died in Russia.I met with his wife, Yulia, yesterday, and expressed my outrage and sorrow.In this fight and — I will say that Aleksey Navalny has been a brave leader who stood up against corruption and autocracy, and he stood up for the truth.The reports of his death are further proof of Putin’s brutality. It reminds us why our support for Ukraine is so important, because Ukraine is fighting back heroically against Putin’s continued brutality.In Munich two years ago, many thought Kyiv would fall in a matter of days. Yet, thanks to the skill and bravery of the people of Ukraine and the support of the 50-nation coalition the United States has led, Kyiv stands free and strong.President Zelenskyy, that is a testament, as I have said, to your extraordinary leadership and the determination of the people of Ukraine and their willingness to fight for their homes and their homeland, for their freedom and their independence.In this fight, Ukraine has achieved significant success against an adversary on an imperialistic quest to subjugate your nation — an adversary with an economy 10 times larger than Ukraine, a population 3 times larger, and a military that once ranked as the second best in the world.You have stood strong in the face of Russia’s advances and countered its aerial assaults.You have regained half the territory Russia controlled at the start of this conflict.You have inflicted major damage on Russia’s fleet in the Black Sea and maintained the flow of grain to world markets.You have kept heat and electricity on in the face of incon- — unconscionable attacks on civilian infrastructure.And you have made a range of reforms that will help accelerate Ukraine’s integration with the West.Because of our collective strength, this war has been an utter failure for Putin.President Zelenskyy, the stakes of your fight remain high for your country and for the entire world. And it is in the strategic interest of the United States to continue our support.International rules and norms are on the line, including the fundamental principles of sovereignty and territorial integrity.History shows us: If we allow an aggressor like Putin to take land with impunity, they keep going. The other would-be aggressors then become emboldened.On this trip to Munich, I have worked with our allies and partners to ensure we stay united and strong in support of Ukraine.Today, President Zelenskyy, you and I had a productive conversation about ongoing support from the United States and the international community, and we spoke of our support for Ukraine on the battlefield.As I said yesterday, you have the support of bipartisan majorities in both houses of the United States Congress.So, as we move forward, the President and I — President Biden and I will continue to work to secure the resources and weapons that you need to succeed. We also will continue to support your efforts to secure a just and lasting peace. We will work to make sure Russia pays damages to Ukraine. And ultimately, we want to see Ukraine emerge from this war as a nation that is free, democratic, and independent.President Zelenskyy, as President Joe Biden and have — and I have made clear, we will be with you for as long as it takes.I thank you again. And thanks —PRESIDENT ZELENSKYY: Thank you so much.VICE PRESIDENT HARRIS: Thank you.PRESIDENT ZELENSKYY: (As interpreted.) Thank you so much, esteemed Madam Vice President, esteemed members of the delegation, dear journalists. I’m glad to have this meeting with Madam Vice President of the United States, Kamala Harris.Thank you so much, Kamala. It is quite natural that main topics of our conversations were security and resilience — security that we, together, build, restore, Ukraine and the United States, by all signs of our cooperation and resilience that we, together, build up when we preserve unity and help each other.I am grateful to Madam Vice President for attention and for your words and for your respect to our nation and for the respect that you have expressed during our meeting to our people, to our warriors, to Ukrainians. Thank you so much for that.And I’m thankful for the vital support and leadership of the United States of America, who helped to unite the world and to stand off against Russian strikes.We shall be together in the future, Ukraine and the United States. And all world — all our partners, we shall continue to build up our security, achieve joint results to increase our resilience against Russian aggression, and each day prove to Putin that his hatred towards people, hatred towards freedom will never prevail over our unity, unity of the free world.Of course, the key issue for us now is the preservation of principle American support. Ukraine and all our warriors need and await of the respective positive vote regarding the assistance package. And I thank to everybody who understands how much depends on this single voting procedure.We have today discussed with Madam Vice President about how significant results were already achieved because of our joint work with the U.S. with partners — in particular, regarding air defenses. American Patriots are the — are the best life-preservation means of people against Russian terror, and each Patriot not only saves hundreds and thousands of lives, but also allows our cities to function normally and therefore our economy.One of Ukrainian goals this year is economic growth. Last year, we have had plus 5 percent GDP. This year, we would need a corresponding growth rate in order to build up more of Ukrainians’ economic independence.The issue of air defense in this regard is the main thing. I have informed Madam Vice President regarding the current situation on the battlefield about our capabilities and perspectives upon the conditions of needed support levels.I have also briefed about — about the ongoing transformation of our state, in particular about decisions that can build up our resilience.We have also discussed the preparation of the Global Peace Summit in Switzerland on the level of leaders. One more principal topic is justice — justice of the further pressure on Putin and his regime in all directions. In particular, this year, we need to ensure the confiscation and usage of Russian assets for the sake of protection against Russia’s terror.Putin does not value lives of people. He does not understand and does not respect any rules. The only thing that is important for Putin is money and power. We need a strong decision that would confiscate frozen Russia’s assets. We would need further full-scale pressure with sanctions on Russia in order to constrain Putin’s capabilities to finance this war.I’m glad to praise the proximity of our views on — on absolutely principal issues.Madam Vice President, I’m grateful to you for our conversation. I thank to all American people. I am extremely thankful to Mr. President Biden, to both parties, and both houses in Congress for the vital support. And I’m sure that, together, we can stop Russia. We must stop.Thank you for your attention. Glory to Ukraine.VICE PRESIDENT HARRIS: We will take questions now from the press. Cleve Wootson of the Washington Post.Q Madam Vice President, hello.VICE PRESIDENT HARRIS: Hello.Q You’ve spoken about enduring American support for Ukraine and other conflicts this weekend. But this political situation at home, including your own, is anything but uncertain, with President Biden facing poor polling numbers, questions about his age. What skepticism have you faced here about U.S. support in your meetings? And what have you said to try to allay them?And, to President Zelenskyy —PRESIDENT ZELENSKYY: Can you turn on the microphone?Q Is it not on?PRESIDENT ZELENSKYY: No, it’s not on.VICE PRESIDENT HARRIS: Is the interpretation happening?INTERPRETER: Unfortunately, the interpretation is not happening as the — we cannot hear the speaker.PARTICIPANT: The translator didn’t hear you. Can you re-ask?Q I can certainly re-ask.PRESIDENT ZELENSKYY: Please take this one. It was working.Sorry, I don’t hear.Q No problem. Want me to ask the question to you again, Madam Vice President?VICE PRESIDENT HARRIS: No, I got it.Q Okay. And to President Zelenskyy. Let’s pull up my question. The U.S. Congress so far has not approved more military aid for you. Without that aid, does your country have a path to victory? And is the lack of funding a betrayal because President Biden has promised that he would be with you until the very end?VICE PRESIDENT HARRIS: I’ll start. As I made very clear yesterday, the issue of supporting Ukraine and where the United States stands on that issue is integral to who we are as the United States of America.We have historically and currently stand as a global leader on certain fundamental democratic principles, including the principle of sovereignty and territorial integrity.We stand with our friends. Our membership in NATO has been a role that is about a commitment to our allies based on shared principles of what it means to abide by democratic principles that have historically ensured stability and security for those participating in this partnership.As I made very clear yesterday, when we talk about the role of America, as it relates to our support for Ukraine, we must be unwavering and we cannot play political games. Political gamesmanship has no role to play in what is fundamentally about the significance of standing with an ally as it endures an unprovoked aggression.Politics should play no role in standing for the fact that Vladimir Putin, through his leadership of Russia, has shown himself to be fundamentally hostile to democratic principles, not to mention what we learned about in the last 24 hours in terms of the killing of Navalny.So, this is about where we stand as a nation. And as it relates to the supplemental, we have been clear, the President and I, both in private conversations with members of the United States Congress and in public. We are clear and certain that for the majority in both the United States Senate and the United States House of Representatives, there is bipartisan support for this approach. There is bipartisan support for what America is and what we stand for.And we are unwavering. And that has nothing to do with an election cycle. It has to do with who we are and what kind of country we want to be: one that stands with our friends.President Zelenskyy.PRESIDENT ZELENSKKY: Thank you so much. (As interpreted.) Thank you for this question.We are counting on this positive decision of the Congress. For us, this package is vital. We do not currently look into alternatives because we’re counting on the United States as — as our partner — strategic partner — that this partner will remain strategic partner.If we’re speaking about the alternative, then this means that it will be not our strategic partner. That’s why I’m not looking into such alternative.And we also did not look into such alternatives strategically and politically. Is this package a way to victory? No, this would not be enough because our path to victory is people, the morality of Ukrainian warrior, of people. The assistance packages, sanctions of the partners — that is a big Allied work — and not quarterly work, but on a daily basis. And that’s why it is so important.But it will definitely — this package is a — definitely way forward. And that is a fact. But it would be not victory yet. But moving forward is much, much better than stagnation on the battlefield.Do I believe that this is a betrayal? No, because I do not think that our strategic partner can allow itself to not support Ukraine. This — I do not see the opportunity for strategic partners to take such stance. We see challenges — electoral, internal, political. I do not want to comment on those because that — those are internal processes in the U.S. and of the people of the United States.But I count that the Allied stance will remain.Q (As interpreted.) Greetings. Nina Kolomiiets, Inter channel. I have a question to Madam Vice President and to Mr. President.We see how difficult it is for the Congress to deal with the assistance to Ukraine. Could you could you please elaborate on why such vital issue to us has been so postponed and whether the United States has a plan B shall the House of Representatives not confirm the assistance package to Ukraine?And also, the question regarding the signature of Ukraine with bilateral security agreements — firstly, with Great Britain; yesterday, with France and Germany. I have a question when the agreement on cooperation in security field will be signed between Ukraine and the United States of America. Perhaps there are already preliminary negotiations on this topic.VICE PRESIDENT HARRIS: There is only plan A, which is to ensure that Ukraine receives what it needs. I will emphasize that an indication of where we can and, frankly, must be is that there is bipartisan support in both of our houses of Congress, on the Senate side and the House of Representatives. And it is my full belief that were the supplemental package and security package to make it to the floor of the House of Representatives, that it would actually pass.I also believe that there is consensus across party lines in the United States Congress that recognizes the — the brutal nature of Moscow’s aggression, and that there must be a response that includes standing by our friends and supporting those who fight against that aggression.And I do believe there is consensus within the United States Congress that the American leadership, elected leaders in the United States Congress must be unified in their opposition to Russia’s aggression, as indicated over the course of the last two-plus years and the last 24 hours.And I do believe also there is consensus within the United States Congress that we must use everything that is available to us to support Ukraine in its fight to become and to maintain itself as an independent and democratic nation.PRESIDENT ZELENSKYY: Thank you for the question. As regards the security guarantees, right? So, regarding the security guarantees, yes, our teams are working. We have held, already, two negotiation rounds, and I’m sure that we will have very powerful document with our partners.However, we have agreed upon that we all need to focus on what is needed right now. That’s why we focus on the work with Congress of the United States. And afterwards, we will move on to security guarantees.VICE PRESIDENT HARRIS: Thank you, all. Thank you.PRESIDENT ZELENSKYY: Thank you so much. 2:28 P.M. CEST',\n",
       "  'text': '2:07 P.M. CESTVICE PRESIDENT HARRIS:\\xa0 Good afternoon, everyone.President Zelenskyy, it was my honor to meet with you again.\\xa0 This is our fifth meeting, by my count.\\xa0 And our first meeting was here almost exactly two years ago.I want to thank you for all that you have done and all that you are as a leader.\\xa0 You and I have had many conversations.\\xa0 And it is my honor to say, as part of a public conversation, that you have been an extraordinarily courageous leader and have shown you commitment to the Ukrainian people and to democratic principles, including the most important — one of the most important — which is the importance of sovereignty and territorial integrity.So, it is good to see you again.I was in Munich and have been here to talk about where we stand currently in terms of our relationship to the Ukrainian people and our unyielding commitment, on behalf of the United States, to the Ukrainian people and to their sovereignty, to their freedom.Five years — five — two years ago when I was here, it was to foreshadow the Russian playbook for the world and to outline the steps the United States, along with our allies and partners, would take in response to their aggression.And I shared with the President then — President Zelenskyy — that the United States stands with Ukraine, and we have been proud to stand with Ukraine over the last two years.\\xa0 And President Joe Biden and I will continue to stand with Ukraine, as I said yesterday and as we say every day.Yesterday, we received reports that Aleksey Navalny died in Russia.I met with his wife, Yulia, yesterday, and expressed my outrage and sorrow.In this fight and — I will say that Aleksey Navalny has been a brave leader who stood up against corruption and autocracy, and he stood up for the truth.\\xa0The reports of his death are further proof of Putin’s brutality.\\xa0 It reminds us why our support for Ukraine is so important, because Ukraine is fighting back heroically against Putin’s continued brutality.In Munich two years ago, many thought Kyiv would fall in a matter of days.\\xa0 Yet, thanks to the skill and bravery of the people of Ukraine and the support of the 50-nation coalition the United States has led, Kyiv stands free and strong.President Zelenskyy, that is a testament, as I have said, to your extraordinary leadership and the determination of the people of Ukraine and their willingness to fight for their homes and their homeland, for their freedom and their independence.\\xa0In this fight, Ukraine has achieved significant success against an adversary on an imperialistic quest to subjugate your nation — an adversary with an economy 10 times larger than Ukraine, a population 3 times larger, and a military that once ranked as the second best in the world.You have stood strong in the face of Russia’s advances and countered its aerial assaults.You have regained half the territory Russia controlled at the start of this conflict.You have inflicted major damage on Russia’s fleet in the Black Sea and maintained the flow of grain to world markets.You have kept heat and electricity on in the face of incon- — unconscionable attacks on civilian infrastructure.And you have made a range of reforms that will help accelerate Ukraine’s integration with the West.Because of our collective strength, this war has been an utter failure for Putin.President Zelenskyy, the stakes of your fight remain high for your country and for the entire world.\\xa0 And it is in the strategic interest of the United States to continue our support.International rules and norms are on the line, including the fundamental principles of sovereignty and territorial integrity.History shows us: If we allow an aggressor like Putin to take land with impunity, they keep going.\\xa0 The other would-be aggressors then become emboldened.On this trip to Munich, I have worked with our allies and partners to ensure we stay united and strong in support of Ukraine.Today, President Zelenskyy, you and I had a productive conversation about ongoing support from the United States and the international community, and we spoke of our support for Ukraine on the battlefield.As I said yesterday, you have the support of bipartisan majorities in both houses of the United States Congress.So, as we move forward, the President and I — President Biden and I will continue to work to secure the resources and weapons that you need to succeed.\\xa0 We also will continue to support your efforts to secure a just and lasting peace.\\xa0 We will work to make sure Russia pays damages to Ukraine.\\xa0 And ultimately, we want to see Ukraine emerge from this war as a nation that is free, democratic, and independent.President Zelenskyy, as President Joe Biden and have — and I have made clear, we will be with you for as long as it takes.I thank you again.\\xa0 And thanks —PRESIDENT ZELENSKYY:\\xa0 Thank you so much.VICE PRESIDENT HARRIS:\\xa0 Thank you.PRESIDENT ZELENSKYY:\\xa0 (As interpreted.)\\xa0 Thank you so much, esteemed Madam Vice President, esteemed members of the delegation, dear journalists.\\xa0 I’m glad to have this meeting with Madam Vice President of the United States, Kamala Harris.Thank you so much, Kamala. It is quite natural that main topics of our conversations were security and resilience — security that we, together, build, restore, Ukraine and the United States, by all signs of our cooperation and resilience that we, together, build up when we preserve unity and help each other.I am grateful to Madam Vice President for attention and for your words and for your respect to our nation and for the respect that you have expressed during our meeting to our people, to our warriors, to Ukrainians.\\xa0 Thank you so much for that.And I’m thankful for the vital support and leadership of the United States of America, who helped to unite the world and to stand off against Russian strikes.We shall be together in the future, Ukraine and the United States.\\xa0 And all world — all our partners, we shall continue to build up our security, achieve joint results to increase our resilience against Russian aggression, and each day prove to Putin that his hatred towards people, hatred towards freedom will never prevail over our unity, unity of the free world.Of course, the key issue for us now is the preservation of principle American support.\\xa0 Ukraine and all our warriors need and await of the respective positive vote regarding the assistance package.\\xa0 And I thank to everybody who understands how much depends on this single voting procedure.We have today discussed with Madam Vice President about how significant results were already achieved because of our joint work with the U.S. with partners — in particular, regarding air defenses.\\xa0 American Patriots are the — are the best life-preservation means of people against Russian terror, and each Patriot not only saves hundreds and thousands of lives, but also allows our cities to function normally and therefore our economy.One of Ukrainian goals this year is economic growth.\\xa0 Last year, we have had plus 5 percent GDP.\\xa0 This year, we would need a corresponding growth rate in order to build up more of Ukrainians’ economic independence.The issue of air defense in this regard is the main thing.\\xa0 I have informed Madam Vice President regarding the current situation on the battlefield about our capabilities and perspectives upon the conditions of needed support levels.I have also briefed about — about the ongoing transformation of our state, in particular about decisions that can build up our resilience.\\xa0We have also discussed the preparation of the Global Peace Summit in Switzerland on the level of leaders.\\xa0 One more principal topic is justice — justice of the further pressure on Putin and his regime in all directions.\\xa0 In particular, this year, we need to ensure the confiscation and usage of Russian assets for the sake of protection against Russia’s terror.Putin does not value lives of people.\\xa0 He does not understand and does not respect any rules.\\xa0 The only thing that is important for Putin is money and power.\\xa0 We need a strong decision that would confiscate frozen Russia’s assets.\\xa0 We would need further full-scale pressure with sanctions on Russia in order to constrain Putin’s capabilities to finance this war.I’m glad to praise the proximity of our views on — on absolutely principal issues.Madam Vice President, I’m grateful to you for our conversation.\\xa0 I thank to all American people.\\xa0 I am extremely thankful to Mr. President Biden, to both parties, and both houses in Congress for the vital support.\\xa0 And I’m sure that, together, we can stop Russia.\\xa0 We must stop.Thank you for your attention.\\xa0 Glory to Ukraine.VICE PRESIDENT HARRIS:\\xa0 We will take questions now from the press.\\xa0 Cleve Wootson of the Washington Post.Q\\xa0\\xa0\\xa0 Madam Vice President, hello.VICE PRESIDENT HARRIS:\\xa0 Hello.Q\\xa0\\xa0\\xa0 You’ve spoken about enduring American support for Ukraine and other conflicts this weekend.\\xa0 But this political situation at home, including your own, is anything but uncertain, with President Biden facing poor polling numbers, questions about his age.\\xa0 What skepticism have you faced here about U.S. support in your meetings?\\xa0 And what have you said to try to allay them?And, to President Zelenskyy —PRESIDENT ZELENSKYY:\\xa0 Can you turn on the microphone?\\xa0Q\\xa0\\xa0\\xa0 Is it not on?PRESIDENT ZELENSKYY:\\xa0 No, it’s not on.VICE PRESIDENT HARRIS:\\xa0 Is the interpretation happening?INTERPRETER:\\xa0 Unfortunately, the interpretation is not happening as the — we cannot hear the speaker.PARTICIPANT:\\xa0 The translator didn’t hear you.\\xa0 Can you re-ask?Q\\xa0\\xa0\\xa0 I can certainly re-ask.PRESIDENT ZELENSKYY:\\xa0 Please take this one.\\xa0 It was working.Sorry, I don’t hear.Q\\xa0\\xa0\\xa0 No problem.\\xa0 Want me to ask the question to you again, Madam Vice President?VICE PRESIDENT HARRIS:\\xa0 No, I got it.Q\\xa0\\xa0\\xa0 Okay.\\xa0 And to President Zelenskyy.\\xa0 Let’s pull up my question.\\xa0 The U.S. Congress so far has not approved more military aid for you.\\xa0 Without that aid, does your country have a path to victory?\\xa0 And is the lack of funding a betrayal because President Biden has promised that he would be with you until the very end?VICE PRESIDENT HARRIS:\\xa0 I’ll start.\\xa0 As I made very clear yesterday, the issue of supporting Ukraine and where the United States stands on that issue is integral to who we are as the United States of America.We have historically and currently stand as a global leader on certain fundamental democratic principles, including the principle of sovereignty and territorial integrity.We stand with our friends.\\xa0 Our membership in NATO has been a role that is about a commitment to our allies based on shared principles of what it means to abide by democratic principles that have historically ensured stability and security for those participating in this partnership.As I made very clear yesterday, when we talk about the role of America, as it relates to our support for Ukraine, we must be unwavering and we cannot play political games.\\xa0 Political gamesmanship has no role to play in what is fundamentally about the significance of standing with an ally as it endures an unprovoked aggression.\\xa0Politics should play no role in standing for the fact that Vladimir Putin, through his leadership of Russia, has shown himself to be fundamentally hostile to democratic principles, not to mention what we learned about in the last 24 hours in terms of the killing of Navalny.So, this is about where we stand as a nation.\\xa0 And as it relates to the supplemental, we have been clear, the President and I, both in private conversations with members of the United States Congress and in public.\\xa0 We are clear and certain that for the majority in both the United States Senate and the United States House of Representatives, there is bipartisan support for this approach.\\xa0 There is bipartisan support for what America is and what we stand for.\\xa0And we are unwavering.\\xa0 And that has nothing to do with an election cycle.\\xa0 It has to do with who we are and what kind of country we want to be: one that stands with our friends.President Zelenskyy.PRESIDENT ZELENSKKY:\\xa0 Thank you so much.\\xa0 (As interpreted.)\\xa0 Thank you for this question.We are counting on this positive decision of the Congress.\\xa0 For us, this package is vital.\\xa0 We do not currently look into alternatives because we’re counting on the United States as — as our partner — strategic partner — that this partner will remain strategic partner.If we’re speaking about the alternative, then this means that it will be not our strategic partner.\\xa0 That’s why I’m not looking into such alternative.And we also did not look into such alternatives strategically and politically.\\xa0 Is this package a way to victory?\\xa0 No, this would not be enough because our path to victory is people, the morality of Ukrainian warrior, of people.\\xa0 The assistance packages, sanctions of the partners — that is a big Allied work — and not quarterly work, but on a daily basis.\\xa0 And that’s why it is so important.But it will definitely — this package is a — definitely way forward.\\xa0 And that is a fact.\\xa0 But it would be not victory yet.\\xa0 But moving forward is much, much better than stagnation on the battlefield.Do I believe that this is a betrayal?\\xa0 No, because I do not think that our strategic partner can allow itself to not support Ukraine.\\xa0 This — I do not see the opportunity for strategic partners to take such stance.\\xa0 We see challenges — electoral, internal, political.\\xa0 I do not want to comment on those because that — those are internal processes in the U.S. and of the people of the United States.But I count that the Allied stance will remain.Q\\xa0\\xa0\\xa0 (As interpreted.)\\xa0 Greetings.\\xa0 Nina Kolomiiets, Inter channel.\\xa0 I have a question to Madam Vice President and to Mr. President.We see how difficult it is for the Congress to deal with the assistance to Ukraine.\\xa0 Could you could you please elaborate on why such vital issue to us has been so postponed and whether the United States has a plan B shall the House of Representatives not confirm the assistance package to Ukraine?And also, the question regarding the signature of Ukraine with bilateral security agreements — firstly, with Great Britain; yesterday, with France and Germany.\\xa0 I have a question when the agreement on cooperation in security field will be signed between Ukraine and the United States of America.\\xa0 Perhaps there are already preliminary negotiations on this topic.VICE PRESIDENT HARRIS:\\xa0 There is only plan A, which is to ensure that Ukraine receives what it needs.\\xa0 I will emphasize that an indication of where we can and, frankly, must be is that there is bipartisan support in both of our houses of Congress, on the Senate side and the House of Representatives.\\xa0 And it is my full belief that were the supplemental package and security package to make it to the floor of the House of Representatives, that it would actually pass.I also believe that there is consensus across party lines in the United States Congress that recognizes the — the brutal nature of Moscow’s aggression, and that there must be a response that includes standing by our friends and supporting those who fight against that aggression.And I do believe there is consensus within the United States Congress that the American leadership, elected leaders in the United States Congress must be unified in their opposition to Russia’s aggression, as indicated over the course of the last two-plus years and the last 24 hours.And I do believe also there is consensus within the United States Congress that we must use everything that is available to us to support Ukraine in its fight to become and to maintain itself as an independent and democratic nation.PRESIDENT ZELENSKYY:\\xa0 Thank you for the question.\\xa0 As regards the security guarantees, right?\\xa0 So, regarding the security guarantees, yes, our teams are working.\\xa0 We have held, already, two negotiation rounds, and I’m sure that we will have very powerful document with our partners.However, we have agreed upon that we all need to focus on what is needed right now.\\xa0 That’s why we focus on the work with Congress of the United States.\\xa0 And afterwards, we will move on to security guarantees.VICE PRESIDENT HARRIS:\\xa0 Thank you, all.\\xa0 Thank you.PRESIDENT ZELENSKYY:\\xa0 Thank you so much.\\xa0\\xa0\\xa0\\xa0\\xa0\\xa0\\xa0\\xa0\\xa0\\xa0\\xa0\\xa0\\xa0\\xa0\\xa0\\xa0\\xa0\\xa0\\xa0\\xa0\\xa0\\xa0\\xa0\\xa0\\xa0\\xa0\\xa0\\xa0\\xa0\\xa0 END\\xa0\\xa0\\xa0\\xa0\\xa0\\xa0\\xa0\\xa0\\xa0\\xa0\\xa0 \\xa0\\xa0\\xa0\\xa0 2:28 P.M. CEST\\n'},\n",
       " {'loc_one': None,\n",
       "  'loc_two': None,\n",
       "  'start': None,\n",
       "  'end': None,\n",
       "  'text': 'Vice President Kamala Harris met today with President Volodymyr Zelenskyy of Ukraine in Munich, Germany to discuss Ukraine’s ongoing fight against Russian aggression.\\xa0 The Vice President emphasized the Administration’s continued efforts to ensure passage of the President’s national security supplemental funding bill, and reaffirmed the strong bipartisan support for Ukraine’s sovereignty and territorial integrity in the U.S. government and among the American people.\\xa0 The Vice President welcomed Ukraine’s progress on its path of Euro-Atlantic integration, and encouraged continued work to counter corruption and strengthen Ukraine’s democratic institutions, which will give confidence to investors and enable Ukraine’s rapid recovery and reconstruction when Russia ceases its unlawful aggression.\\n'},\n",
       " {'loc_one': None,\n",
       "  'loc_two': None,\n",
       "  'start': None,\n",
       "  'end': None,\n",
       "  'text': '###\\n'},\n",
       " {'loc_one': None,\n",
       "  'loc_two': None,\n",
       "  'start': None,\n",
       "  'end': None,\n",
       "  'text': 'Vice President Kamala Harris met today with Chancellor Olaf Scholz of Germany in Munich, underscoring the strength of the transatlantic relationship in addressing global challenges.\\xa0The Vice President expressed appreciation for Germany’s exemplary contributions to Ukraine’s self-defense and for the Chancellor’s personal leadership to advance robust European and international support for Ukraine’s economic stability.\\xa0The leaders noted reports of the death of Alexey Navalny, which underscores Russia’s brutality and the need to continue aiding Ukraine’s fight against Russian aggression.\\xa0The leaders also reiterated their commitment to close coordination\\xa0on both countries’ approaches to managing competition with the People’s Republic of China.\\n'},\n",
       " {'loc_one': None,\n",
       "  'loc_two': None,\n",
       "  'start': None,\n",
       "  'end': None,\n",
       "  'text': '# # #\\n'},\n",
       " {'loc_one': None,\n",
       "  'loc_two': None,\n",
       "  'start': None,\n",
       "  'end': None,\n",
       "  'text': 'Brave IndustriesEast Palestine, Ohio\\n'},\n",
       " {'loc_one': None,\n",
       "  'loc_two': None,\n",
       "  'start': '4:39 P.M. ESTTHE PRESIDENT:\\xa0 Good afternoon, folks.\\xa0 Mayor Conaway, thank you for the welcome and, more importantly, for your leadership.\\xa0 I really mean it.\\xa0 We talked outside there.MAYOR CONAWAY:\\xa0 Thank you, sir.THE PRESIDENT:\\xa0 You’ve been through hell.And I also want to thank the EPA Administrator here with me, EPA Administrator Regan, as well.We just concluded a briefing about the herculean efforts — and that’s not a hyperbole — the herculean efforts that were made in the year since this tragedy.\\xa0 But what’s happening in the morning, the evening of, and the next day and the weeks following is amazing.\\xa0 It’s absolutely amazing what this community rose to.You know, I — I want to thank the folks of East Palestine to know — I want them to understand that we’re not going home, no matter what, until this job is done.\\xa0 And it’s not done yet.\\xa0 There’s a lot more to do.\\xa0 The vast majority has been done, but we’re going to stay until the very end, every need is met.And I want to — we continue to hold Norfolk Southern accountable and make sure they make your community whole now and in the future.\\xa0 And what they do not make whole, what they cannot make whole, what isn’t made — the government will make whole.\\xa0 We have an obligation.\\xa0 We have an obligation.I can already see this derailment won’t define you.\\xa0 It just — it defined you in a different way: your courage, the resilience of this community, and the compassion that you’ve shown for all your fellow citizens.Let me be clear: While there are acts of God, this was an act of greed that was 100 percent preventable.\\xa0 Let me say it again: an act of greed that was 100 percent preventable.\\xa0 We were pushing railroads to take more precautions, to deal with braking, to deal with a whole range of things that were not dealt with.\\xa0 Norfolk Southern failed its responsibility.\\xa0You know, multimillion-dollar railroad companies transporting toxic chemicals have responsibility to do it safely.\\xa0 And, again, Norfolk Southern failed.My administration was on the ground within hours, working closely with the governor, the mayor, the senators, the house members, community leaders to make sure you have everything you need.\\xa0\\xa0My administration ordered Norfolk Southern to clean up the mess it created and ensure it was done right.\\xa0 That includes an executive order I signed to continue our priority to hold Norfolk Southern fully accountable for this disaster and any long-term effects that are able to be identified as time goes on — not just here but also in Darlington, Pennsylvania, where I just visited a few hours ago — an hour or so ago.\\xa0Working with the state, we’ve tested the air, the water, the soil quality; deployed teams of health experts; provided emergency loans for local businesses.\\xa0 But it’s not done yet.\\xa0 There’s more to do.Today, I’m announcing the award of six National Institutes of Health grants to some of America’s best research universities to study the short- and long-term impacts of what happened here.\\xa0 That includes just north of here at Case Western University, so you’ll have a top researcher with you as long as you need, as long as has to go on.\\xa0I also want to restate my support for the bipartisan rail safety la- — bill — Senator Brown, Senator Vance, and the congressman from Pennsylvania and others — that require stronger protective measures when trains are carrying hazardous waste.\\xa0Storage tank cars — we argued about this for years.\\xa0 They should be stronger.\\xa0 They should be able to survive crashes without exploding.\\xa0Unda- — un- — undated [updated] brakes that meet higher safety standards.\\xa0 The fact of the matter is, there was a lot of discussion ahead of time, before this occurred, about the safety of the braking systems of many of these railroads — trains.\\xa0More staffing on trains so that there are more people to respond immediately to a crash and to do so much more (inaudible) safety of transportation.\\xa0And it’s important that the Senate follow the House and pass the tax reform bill, which makes sure that folks who don’t get hit with a tax — a surprise tax bill for compensation owed them by the railroad, that it’s not taxable income to them.\\xa0 We’ve got to make sure that that occur, that no one is taxed for anything that is reimbursed or received from Norfolk Southern.\\xa0It’s not right.\\xa0 I support the ta- — this tax reform bill, and we’ve got to get it done.\\xa0All told, we’ve done in one year what would ty- — typically take many years, and we’re going to keep going.\\xa0Like I said, your compassion and resilience of leadership of this community and the people of this community — the courage of your firefighters, law enforcement officers, first responders who run into danger to save others — they deserve the care and resources we owe them to be followed and their health needs followed as well.\\xa0 Because that’s what we do.\\xa0It doesn’t matter if you’re a Democrat, a Republican, or an independent.\\xa0 What matters is we’re all Americans — everyone, everyone.\\xa0 We look out for one another.\\xa0 We leave no one behind.\\xa0 And we come back stronger than before.\\xa0\\xa0That’s what you’re doing here.\\xa0 That’s what’s happening right here in this community.\\xa0 That’s what’s going on downtown, in your parks as well.\\xa0 You’re now — your downtown is reopened and the parks are reopened.\\xa0 Students were frustrated opposing schools wouldn’t travel here for sports events, but now you’re playing home games again, finally.\\xa0That’s pride.\\xa0 That’s also progress.\\xa0But we have other obligation, and that’s here — to stay here as long as it takes to get everything done and be sure no one is left behind.In moments like this, let’s remember who we are.\\xa0 We’re the United States of America, for God’s sake.\\xa0 We have obligations to one another.\\xa0 There’s nothing beyond our capacity when we do it together.\\xa0 And we’re going to stay here and do it together as long as it takes.May God bless you all and may God protect our troops.We have a lot to do.Now, let me turn this over to EPA Administrator, Michael Regan, and he’ll have a few things to say as well.\\xa0Michael.4:46 P.M. EST',\n",
       "  'end': '4:39 P.M. ESTTHE PRESIDENT: Good afternoon, folks. Mayor Conaway, thank you for the welcome and, more importantly, for your leadership. I really mean it. We talked outside there.MAYOR CONAWAY: Thank you, sir.THE PRESIDENT: You’ve been through hell.And I also want to thank the EPA Administrator here with me, EPA Administrator Regan, as well.We just concluded a briefing about the herculean efforts — and that’s not a hyperbole — the herculean efforts that were made in the year since this tragedy. But what’s happening in the morning, the evening of, and the next day and the weeks following is amazing. It’s absolutely amazing what this community rose to.You know, I — I want to thank the folks of East Palestine to know — I want them to understand that we’re not going home, no matter what, until this job is done. And it’s not done yet. There’s a lot more to do. The vast majority has been done, but we’re going to stay until the very end, every need is met.And I want to — we continue to hold Norfolk Southern accountable and make sure they make your community whole now and in the future. And what they do not make whole, what they cannot make whole, what isn’t made — the government will make whole. We have an obligation. We have an obligation.I can already see this derailment won’t define you. It just — it defined you in a different way: your courage, the resilience of this community, and the compassion that you’ve shown for all your fellow citizens.Let me be clear: While there are acts of God, this was an act of greed that was 100 percent preventable. Let me say it again: an act of greed that was 100 percent preventable. We were pushing railroads to take more precautions, to deal with braking, to deal with a whole range of things that were not dealt with. Norfolk Southern failed its responsibility.You know, multimillion-dollar railroad companies transporting toxic chemicals have responsibility to do it safely. And, again, Norfolk Southern failed.My administration was on the ground within hours, working closely with the governor, the mayor, the senators, the house members, community leaders to make sure you have everything you need.My administration ordered Norfolk Southern to clean up the mess it created and ensure it was done right. That includes an executive order I signed to continue our priority to hold Norfolk Southern fully accountable for this disaster and any long-term effects that are able to be identified as time goes on — not just here but also in Darlington, Pennsylvania, where I just visited a few hours ago — an hour or so ago.Working with the state, we’ve tested the air, the water, the soil quality; deployed teams of health experts; provided emergency loans for local businesses. But it’s not done yet. There’s more to do.Today, I’m announcing the award of six National Institutes of Health grants to some of America’s best research universities to study the short- and long-term impacts of what happened here. That includes just north of here at Case Western University, so you’ll have a top researcher with you as long as you need, as long as has to go on.I also want to restate my support for the bipartisan rail safety la- — bill — Senator Brown, Senator Vance, and the congressman from Pennsylvania and others — that require stronger protective measures when trains are carrying hazardous waste.Storage tank cars — we argued about this for years. They should be stronger. They should be able to survive crashes without exploding.Unda- — un- — undated [updated] brakes that meet higher safety standards. The fact of the matter is, there was a lot of discussion ahead of time, before this occurred, about the safety of the braking systems of many of these railroads — trains.More staffing on trains so that there are more people to respond immediately to a crash and to do so much more (inaudible) safety of transportation.And it’s important that the Senate follow the House and pass the tax reform bill, which makes sure that folks who don’t get hit with a tax — a surprise tax bill for compensation owed them by the railroad, that it’s not taxable income to them. We’ve got to make sure that that occur, that no one is taxed for anything that is reimbursed or received from Norfolk Southern.It’s not right. I support the ta- — this tax reform bill, and we’ve got to get it done.All told, we’ve done in one year what would ty- — typically take many years, and we’re going to keep going.Like I said, your compassion and resilience of leadership of this community and the people of this community — the courage of your firefighters, law enforcement officers, first responders who run into danger to save others — they deserve the care and resources we owe them to be followed and their health needs followed as well. Because that’s what we do.It doesn’t matter if you’re a Democrat, a Republican, or an independent. What matters is we’re all Americans — everyone, everyone. We look out for one another. We leave no one behind. And we come back stronger than before.That’s what you’re doing here. That’s what’s happening right here in this community. That’s what’s going on downtown, in your parks as well. You’re now — your downtown is reopened and the parks are reopened. Students were frustrated opposing schools wouldn’t travel here for sports events, but now you’re playing home games again, finally.That’s pride. That’s also progress.But we have other obligation, and that’s here — to stay here as long as it takes to get everything done and be sure no one is left behind.In moments like this, let’s remember who we are. We’re the United States of America, for God’s sake. We have obligations to one another. There’s nothing beyond our capacity when we do it together. And we’re going to stay here and do it together as long as it takes.May God bless you all and may God protect our troops.We have a lot to do.Now, let me turn this over to EPA Administrator, Michael Regan, and he’ll have a few things to say as well.Michael.4:46 P.M. EST',\n",
       "  'text': '4:39 P.M. ESTTHE PRESIDENT:\\xa0 Good afternoon, folks.\\xa0 Mayor Conaway, thank you for the welcome and, more importantly, for your leadership.\\xa0 I really mean it.\\xa0 We talked outside there.MAYOR CONAWAY:\\xa0 Thank you, sir.THE PRESIDENT:\\xa0 You’ve been through hell.And I also want to thank the EPA Administrator here with me, EPA Administrator Regan, as well.We just concluded a briefing about the herculean efforts — and that’s not a hyperbole — the herculean efforts that were made in the year since this tragedy.\\xa0 But what’s happening in the morning, the evening of, and the next day and the weeks following is amazing.\\xa0 It’s absolutely amazing what this community rose to.You know, I — I want to thank the folks of East Palestine to know — I want them to understand that we’re not going home, no matter what, until this job is done.\\xa0 And it’s not done yet.\\xa0 There’s a lot more to do.\\xa0 The vast majority has been done, but we’re going to stay until the very end, every need is met.And I want to — we continue to hold Norfolk Southern accountable and make sure they make your community whole now and in the future.\\xa0 And what they do not make whole, what they cannot make whole, what isn’t made — the government will make whole.\\xa0 We have an obligation.\\xa0 We have an obligation.I can already see this derailment won’t define you.\\xa0 It just — it defined you in a different way: your courage, the resilience of this community, and the compassion that you’ve shown for all your fellow citizens.Let me be clear: While there are acts of God, this was an act of greed that was 100 percent preventable.\\xa0 Let me say it again: an act of greed that was 100 percent preventable.\\xa0 We were pushing railroads to take more precautions, to deal with braking, to deal with a whole range of things that were not dealt with.\\xa0 Norfolk Southern failed its responsibility.\\xa0You know, multimillion-dollar railroad companies transporting toxic chemicals have responsibility to do it safely.\\xa0 And, again, Norfolk Southern failed.My administration was on the ground within hours, working closely with the governor, the mayor, the senators, the house members, community leaders to make sure you have everything you need.\\xa0\\xa0My administration ordered Norfolk Southern to clean up the mess it created and ensure it was done right.\\xa0 That includes an executive order I signed to continue our priority to hold Norfolk Southern fully accountable for this disaster and any long-term effects that are able to be identified as time goes on — not just here but also in Darlington, Pennsylvania, where I just visited a few hours ago — an hour or so ago.\\xa0Working with the state, we’ve tested the air, the water, the soil quality; deployed teams of health experts; provided emergency loans for local businesses.\\xa0 But it’s not done yet.\\xa0 There’s more to do.Today, I’m announcing the award of six National Institutes of Health grants to some of America’s best research universities to study the short- and long-term impacts of what happened here.\\xa0 That includes just north of here at Case Western University, so you’ll have a top researcher with you as long as you need, as long as has to go on.\\xa0I also want to restate my support for the bipartisan rail safety la- — bill — Senator Brown, Senator Vance, and the congressman from Pennsylvania and others — that require stronger protective measures when trains are carrying hazardous waste.\\xa0Storage tank cars — we argued about this for years.\\xa0 They should be stronger.\\xa0 They should be able to survive crashes without exploding.\\xa0Unda- — un- — undated [updated] brakes that meet higher safety standards.\\xa0 The fact of the matter is, there was a lot of discussion ahead of time, before this occurred, about the safety of the braking systems of many of these railroads — trains.\\xa0More staffing on trains so that there are more people to respond immediately to a crash and to do so much more (inaudible) safety of transportation.\\xa0And it’s important that the Senate follow the House and pass the tax reform bill, which makes sure that folks who don’t get hit with a tax — a surprise tax bill for compensation owed them by the railroad, that it’s not taxable income to them.\\xa0 We’ve got to make sure that that occur, that no one is taxed for anything that is reimbursed or received from Norfolk Southern.\\xa0It’s not right.\\xa0 I support the ta- — this tax reform bill, and we’ve got to get it done.\\xa0All told, we’ve done in one year what would ty- — typically take many years, and we’re going to keep going.\\xa0Like I said, your compassion and resilience of leadership of this community and the people of this community — the courage of your firefighters, law enforcement officers, first responders who run into danger to save others — they deserve the care and resources we owe them to be followed and their health needs followed as well.\\xa0 Because that’s what we do.\\xa0It doesn’t matter if you’re a Democrat, a Republican, or an independent.\\xa0 What matters is we’re all Americans — everyone, everyone.\\xa0 We look out for one another.\\xa0 We leave no one behind.\\xa0 And we come back stronger than before.\\xa0\\xa0That’s what you’re doing here.\\xa0 That’s what’s happening right here in this community.\\xa0 That’s what’s going on downtown, in your parks as well.\\xa0 You’re now — your downtown is reopened and the parks are reopened.\\xa0 Students were frustrated opposing schools wouldn’t travel here for sports events, but now you’re playing home games again, finally.\\xa0That’s pride.\\xa0 That’s also progress.\\xa0But we have other obligation, and that’s here — to stay here as long as it takes to get everything done and be sure no one is left behind.In moments like this, let’s remember who we are.\\xa0 We’re the United States of America, for God’s sake.\\xa0 We have obligations to one another.\\xa0 There’s nothing beyond our capacity when we do it together.\\xa0 And we’re going to stay here and do it together as long as it takes.May God bless you all and may God protect our troops.We have a lot to do.Now, let me turn this over to EPA Administrator, Michael Regan, and he’ll have a few things to say as well.\\xa0Michael.4:46 P.M. EST\\n'},\n",
       " {'loc_one': None,\n",
       "  'loc_two': None,\n",
       "  'start': None,\n",
       "  'end': None,\n",
       "  'text': 'Green Bay, WI\\n'},\n",
       " {'loc_one': None,\n",
       "  'loc_two': None,\n",
       "  'start': None,\n",
       "  'end': None,\n",
       "  'text': 'Thank you, Miguel. Joe promised he would choose a Secretary of Education who came from the classroom and we could not have asked for a better one than you.\\n'},\n",
       " {'loc_one': None,\n",
       "  'loc_two': None,\n",
       "  'start': None,\n",
       "  'end': None,\n",
       "  'text': 'And it’s amazing to be here with another educator: Governor Evers. You’ve been a remarkable leader for this state. Joe and I are grateful for your partnership and we can’t wait to host you and Kathy at the White House next week for the National Governor’s Association Meeting.\\n'},\n",
       " {'loc_one': None,\n",
       "  'loc_two': None,\n",
       "  'start': None,\n",
       "  'end': None,\n",
       "  'text': 'Mayor Genrick, thank you for welcoming me to your wonderful city once again – and for all you do for this community.\\n'},\n",
       " {'loc_one': None,\n",
       "  'loc_two': None,\n",
       "  'start': None,\n",
       "  'end': None,\n",
       "  'text': 'Chairman Hill, thank you for taking the time to be with us today.\\n'},\n",
       " {'loc_one': None,\n",
       "  'loc_two': None,\n",
       "  'start': None,\n",
       "  'end': None,\n",
       "  'text': 'I’m in Green Bay today because something special is happening here, something transformative. And we want other parts of the state and country to follow your example.\\n'},\n",
       " {'loc_one': None,\n",
       "  'loc_two': None,\n",
       "  'start': None,\n",
       "  'end': None,\n",
       "  'text': 'You elected my husband, President Biden, because he wanted to rebuild the middle class. But what does that look like? And how do you do it?\\n'},\n",
       " {'loc_one': None,\n",
       "  'loc_two': None,\n",
       "  'start': None,\n",
       "  'end': None,\n",
       "  'text': 'It looks like what’s happening here. Where President Biden and state leaders are transforming education, reimagining middle school and high school classrooms and turning them into places where students can try out different careers, explore their interests, and discover how to turn those interests into good-paying jobs. It looks like classrooms that aren’t only traditional spaces with desks, but that are kitchens where students learn culinary skills…greenhouses where students learn how to grow vegetables and plants…metal shops and fabrication labs, where students learn how to build things.\\n'},\n",
       " {'loc_one': None,\n",
       "  'loc_two': None,\n",
       "  'start': None,\n",
       "  'end': None,\n",
       "  'text': 'A curriculum that combines learning in a school with hands-on learning; real-world experience working at a credit union or in the city parks department or at a hospital.\\n'},\n",
       " {'loc_one': None,\n",
       "  'loc_two': None,\n",
       "  'start': None,\n",
       "  'end': None,\n",
       "  'text': 'This is what it means to prepare students for careers. And when done well, hundreds of students graduate each year with the skills they need to fill the jobs that pay well and are right here, in their hometown.\\n'},\n",
       " {'loc_one': None,\n",
       "  'loc_two': None,\n",
       "  'start': None,\n",
       "  'end': None,\n",
       "  'text': 'Nearly 60 percent of graduating high school students don’t go directly to a four-year college. Six out of every ten students. Some will start working. Some will go to community or technical colleges. Some won’t know what they want to do next.\\n'},\n",
       " {'loc_one': None,\n",
       "  'loc_two': None,\n",
       "  'start': None,\n",
       "  'end': None,\n",
       "  'text': 'That’s why our education system needs to adapt, it needs to transform.\\n'},\n",
       " {'loc_one': None,\n",
       "  'loc_two': None,\n",
       "  'start': None,\n",
       "  'end': None,\n",
       "  'text': 'You’re leading that change here in Northeast Wisconsin. Thank you. I know it takes an entire community – it takes partners like the Green Bay Chamber, and local businesses like Bellin Health…it takes school leaders like Sara Greenwood and Mike Snowberry. It takes a governor like Governor Evers, and a mayor, like Mayor Genrick, who are supporting career-connected learning. And it takes students, like Katelyn and Adam and Mason, who are taking advantage of these opportunities to work toward their goals.\\n'},\n",
       " {'loc_one': None,\n",
       "  'loc_two': None,\n",
       "  'start': None,\n",
       "  'end': None,\n",
       "  'text': 'I want you to know that President Biden is your partner in these efforts. He knows that education is about setting students up for success in life. And success has many paths. That’s why his vision for education involves students learning not only in a traditional classroom, but also outside in the community and on the job, where students can gain hands-on experience and build skills for a lifelong career.\\n'},\n",
       " {'loc_one': None,\n",
       "  'loc_two': None,\n",
       "  'start': None,\n",
       "  'end': None,\n",
       "  'text': 'And that vision is coming alive here in Northeast Wisconsin, because of the people in this room. You are providing students with an incredible education, an opportunity to discover what they love to do, and a solid foundation for their future.\\n'},\n",
       " {'loc_one': None,\n",
       "  'loc_two': None,\n",
       "  'start': None,\n",
       "  'end': None,\n",
       "  'text': 'I can’t wait to hear more about the work you’re doing. Thank you.\\n'},\n",
       " {'loc_one': None,\n",
       "  'loc_two': None,\n",
       "  'start': None,\n",
       "  'end': None,\n",
       "  'text': '###\\n'},\n",
       " {'loc_one': None,\n",
       "  'loc_two': None,\n",
       "  'start': None,\n",
       "  'end': None,\n",
       "  'text': 'Aboard Air Force OneEn Route Pittsburgh, Pennsylvania\\n'},\n",
       " {'loc_one': None,\n",
       "  'loc_two': None,\n",
       "  'start': '12:06 P.M. EST\\xa0MS. JEAN-PIERRE:\\xa0 All right.\\xa0 Hello.\\xa0 I have a guest with me.\\xa0\\xa0Q\\xa0\\xa0\\xa0 Yeah.',\n",
       "  'end': '12:06 P.M. ESTMS. JEAN-PIERRE: All right. Hello. I have a guest with me.Q Yeah.',\n",
       "  'text': '12:06 P.M. EST\\xa0MS. JEAN-PIERRE:\\xa0 All right.\\xa0 Hello.\\xa0 I have a guest with me.\\xa0\\xa0Q\\xa0\\xa0\\xa0 Yeah.\\n'},\n",
       " {'loc_one': None,\n",
       "  'loc_two': None,\n",
       "  'start': None,\n",
       "  'end': None,\n",
       "  'text': 'MS. JEAN-PIERRE:\\xa0 Yeah.\\xa0 Okay, just bear with me for a second.\\xa0 Got a little bit of a laydown of the trip.\\xa0\\xa0So, good afternoon.\\xa0 As you all know, we are on our way to East Palestine, Ohio, where the President will hear directly from residents affected by the Norfolk Southern train de- — derailment.\\xa0\\xa0The President is making today’s visit as — at the invitation of the mayor to see the progress delivered through our whole-of-government response and to reaffirm his commitment to supporting the community as it moves forward.\\xa0\\xa0While on the ground, the President will also receive a briefing from officials on continuing response and recovery efforts, which began within hours of the derailment and will continue for as long as it takes to make this community whole again.\\xa0\\xa0A couple of things that I wanted to just highlight for all of you: The Department of Transporta- — Transportation arrived on scene within hours to support the National Transportation Safety Board in their independent investigation of the derailment.\\xa0\\xa0EPA also arrived within hours and continues to work around the clock to clean up the mess Norfolk Southern made, removing more than 176,000 tons of hazardous waste and removing or treating more than 49 million gallons of water, all paid for by Norfolk Southern under EPA’s historic enforcement authority.\\xa0\\xa0FEMA provided immediate technical and operational assistance to the Ohio Emergency Management Agency and other agencies, including by leading community outreach efforts to help keep residents informed.\\xa0\\xa0\\xa0And HHS continues to monitor the public health consequences of the derailment, including any long-term health issues in the affected communities.\\xa0\\xa0The President also wants to ensure that what happened in East Palestine doesn’t happen again here or in any other community.\\xa0 That’s why he has deployed historic investments to modernize and upgrade rail infrastructure and make passenger and freight rail safer and continues to call on Congress to do its part by passing the bipartisan Railway Safety Act.\\xa0Today, the President is bringing a message to the people of East Palestine: We will continue to be here every step of the way, as long as it takes, and use every tool available to ensure this community is able to move forward.\\xa0\\xa0And with that, I have the EPA Administrator, Michael Regan, to take any of your questions or to make any statements that you may have.\\xa0 Go ahead.\\xa0Q\\xa0\\xa0\\xa0 Can you just speak up a little bit?\\xa0 Sorry.\\xa0MS. JEAN-PIERRE:\\xa0 Yeah.\\xa0ADMINISTRATOR REGAN:\\xa0 Yes.\\xa0 You know, I just want to add that, first and foremost, President Biden has been laser-focused on East Palestine from day one — laser-focused since day one.\\xa0 As Karine said, we were there just hours after the derailment.\\xa0 We have been there since.\\xa0This is a historic response.\\xa0 Because the President has leaned in, EPA has been able to accomplish work in 12 months that would have normally taken close to five years.\\xa0 We have moved over 176,000 tons of contaminated soil, over 43 million gallons of contaminated water, and all the while, have had a EPA welcome center open downtown to take questions and provide educational materials to all that have been affected.\\xa0\\xa0Q\\xa0\\xa0\\xa0 Do the people of East Palestine need long-term healthcare provided to them by the federal government?\\xa0\\xa0ADMINISTRATOR REGAN:\\xa0 You know, long-term monitoring and long-term healthcare are things that have been requested and are being considered.\\xa0 There are multiple ways that we are evaluating how to arrive to those potential solutions.\\xa0\\xa0But we are listening to the people of East Palestine.\\xa0 And what I have pledged and what the President has pledged is that we will be there, shoulder to shoulder with the people of East Palestine, until the job is done.\\xa0\\xa0Q\\xa0\\xa0\\xa0 What is the status — what is the status of the drinking water now?\\xa0ADMINISTRATOR REGAN:\\xa0 You know, there are weekly tests done at the municipal level by the state of Ohio, as well as continual samples for private wells, all of which are getting a clean bill of health from the state.\\xa0\\xa0We check the state’s homework, and we firmly believe that when the state checks a municipal well source or a private well and they say that they have a green light, we trust that methodology and believe that the water is safe to drink.\\xa0Q\\xa0\\xa0\\xa0 What is the administration’s message, though, to the residents who are concerned about the air in their homes and the water still, even though they’re getting these positive messages from the — from local officials there?\\xa0\\xa0ADMINISTRATOR REGAN:\\xa0 You know, what I — what I have to say is we have over, you know, 45,000 air quality monitoring tests strategically done around the area, over 115 million different data points that suggests that there was never any concerns for air pollution levels above safe levels.\\xa0\\xa0And — and shortly after the derailment — I’ll remind folks — we went inside over 600 homes to do indoor air assessments and determine, even shortly after the controlled burn, that there were no elevated levels.\\xa0 And so, we believe that the science and the technology prove that the indoor air quality is safe.\\xa0\\xa0And we are determining this through multiple measures.\\xa0 We have high-tech aircraft that we’ve had in the vicinity.\\xa0 We have mobile sources and trucks and others with sophisticating measurement tools.\\xa0 And then we have stationary air monitors placed all around this community.\\xa0We believe and know, based on the science and the data, that the air is safe.\\xa0\\xa0Q\\xa0\\xa0\\xa0 Just wanted to follow up on that.\\xa0 If — if that’s the case, where do the contaminants go?\\xa0ADMINISTRATOR REGAN:\\xa0 Well, you know, most of these contaminants, during the controlled burn — dissipated immediately during the controlled burn.\\xa0 And we — the — the state ordered an evacuation.\\xa0 And we set up this very well-designed system for testing the air quality.\\xa0 So, since people have been back in their home, we’ve been having lots of testing and data points that determine that most of these chemicals dissipated immediately.\\xa0\\xa0But we’ve set up this safety net to determine that there are no elevated levels in the area, externally or in these homes, based upon the derailment and the controlled burn.\\xa0Q\\xa0\\xa0\\xa0 Can you help us understand why it took so long for the President to make this trip?\\xa0 Was there a specific reason?\\xa0 Was his own health considered in making this decision?\\xa0ADMINISTRATOR REGAN:\\xa0 You know, what I would say is, the President has been laser-focused since day one, deployed a whole-of-government approach, and decided to strategically visit and engage when he thought the time was right.\\xa0\\xa0I will note that a lot of work has gone on this past year, and it has been, as of late, that the mayor extended an invitation to the President to join.\\xa0 And the President is responding to that local invite, which I think is very appropriate.\\xa0Q\\xa0\\xa0\\xa0 To Josh’s — a follow-up to Josh’s question.\\xa0 Senator J.D. Vance has proposed a $15 million long-term study for the health effects after the crash.\\xa0 Is that something that the administration is considering?\\xa0ADMINISTRATOR REGAN:\\xa0 You know, I — I would say that this administration understands that we need to be there until the job is done.\\xa0 We also understand that the community is requesting long-term monitoring of the environment and personal health.\\xa0 And all of those things we believe are under consideration and deserve a really robust conversation.\\xa0\\xa0Q\\xa0\\xa0\\xa0 Have you received any information, any feedback from the residents who may still have some concerns about their air and water?\\xa0 Have they brought it directly to the EPA, or have you just been hearing it sort of through a trickle-down method?\\xa0ADMINISTRATOR REGAN:\\xa0 Absolutely, we’ve heard it directly from the community.\\xa0 We’ve been embedded in this community, you know, hours after this derailment.\\xa0 We have an EPA welcome center, which we’ve seen over 1,200 East Palestinian residents darken that door.\\xa0 You know, in the East Palestinian community and surrounding areas, we send out newsletters to about 9,000 homes and residents.\\xa0 So, we have a really robust two-way communication.\\xa0\\xa0We are hearing and listening to those concerns.\\xa0 For those who have health concerns, we have advocated from day one: Please engage your medical providers, please provide them the appropriate information.\\xa0 That way we can have a better understanding from a health perspective where there may be some correla- — correlations.\\xa0\\xa0But I want to be clear that the monitoring that we’ve done of the municipal water, the private wells and the monitoring that we’ve done around the air quality demonstrates that there were no elevated levels of pollution exposure due to this derailment.\\xa0\\xa0Q\\xa0\\xa0\\xa0 Given this robust response that you’ve described here, what — why do you think the people of East Palestine are so frustrated and angry at the President?\\xa0 I mean, we’re not expecting a particularly warm welcome for the President today when he arrives.\\xa0 Do you have a sense for what — what that is?\\xa0ADMINISTRATOR REGAN:\\xa0 You know, this is my fifth trip, and I’ve spent time with a lot of different people — families that have been impacted, high school students.\\xa0 When I converse with the mayor or with Congressman Bill Johnson and with many community members, what I’m hearing is 90 to 95 percent of the people of East Palestine are looking forward — are ready to move forward and believe that their community is safe.\\xa0 And they want to see this dark cloud removed from over their community.\\xa0\\xa0There is a percentage of people — a smaller percentage of people who do not quite have the faith in the quality of their water and the quality of their air.\\xa0 And what I would say is we continue to work with these individuals, provide the data, provide the analytics, and try to help them get to a place where they are more comfortable with what they’re experiencing.\\xa0 Some of these people were not quite confident in their water quality before this derailment, and they’re definitely not going to be satisfied after the derailment.\\xa0\\xa0So, we have to continue to work with the community and meet people where they are.\\xa0\\xa0Q\\xa0\\xa0\\xa0 What’s your response to requests for a disaster declaration?\\xa0 There has been one from the governor, from Senator Sherrod Brown.\\xa0 Why wasn’t that made?\\xa0ADMINISTRATOR REGAN:\\xa0 You know, I think the President’s executive order — or presidential order made it clear that this option is on the table, and the state has a few boxes it needs to check to provide the federal government with the level of detail needed to pursue that.\\xa0 And so, the ball is in the state’s court.\\xa0 And, you know, we will let the states lead on that and be prepared to respond at the appropriate time.\\xa0Q\\xa0\\xa0\\xa0 Is the Ohio governor or are other federal Republican Ohio lawmakers invited to take part in the briefing or in any of the events today?\\xa0MS. JEAN-PIERRE:\\xa0 Say that mor- — I didn’t hear the question.\\xa0Q\\xa0\\xa0\\xa0 Was — was the Ohio governor or other, sort of, Ohio Republican lawmakers invited today?\\xa0 And did they decline to come or —\\xa0MS. JEAN-PIERRE:\\xa0 So, I would certainly refer you to their offices.\\xa0 Obviously, when these — the President makes these types of trips, he sends out an invite to — it doesn’t matter if you’re a Democrat or a Republican, obviously — he sends out the invite.\\xa0 But I would refer you to their respective office on — on their schedule.\\xa0Q\\xa0\\xa0\\xa0 All right.\\xa0ADMINISTRATOR REGAN:\\xa0 And I’d like to say, on that point, from day one — and I think the facts bear this out — we have engaged both Republicans and Democrats in both states.\\xa0 In all fi- — four of my trips, I’ve worked shoulder to shoulder with Mayor Conaway, Congressman Bill Johnson, Senator Sherrod Brown, and Governor Shapiro.\\xa0\\xa0Listen, I — I think we have been laser-focused on this community.\\xa0 Politics do not belong in the response of something of this — this magnitude.\\xa0 So, we’ve — we’ve definitely seen cooperation across the aisles —\\xa0Q\\xa0\\xa0\\xa0 With 20- —\\xa0ADMINISTRATOR REGAN:\\xa0 — from — from both —\\xa0Q\\xa0\\xa0\\xa0 With 20/20 hindsight, I mean, would you have come a little sooner?\\xa0 Or do you think the President should have come a little sooner?\\xa0\\xa0ADMINISTRATOR REGAN:\\xa0 You know, my answer is: I — I think we have with — even with 20/20 hindsight, governed ourselves accordingly.\\xa0 There’s a balancing act here.\\xa0 EPA, the Department of Transportation, all of the people needed to protect the public safety have been on the ground within hours.\\xa0\\xa0There is a little bit of a circus when we all come, and I think respecting the mayor’s wish and locally elected officials’ wishes not to have federal visits disrupt the response that is needed to make people feel safe — we have listened to the people locally.\\xa0 And that’s why you’ve seen us respond the way we have.\\xa0 We —\\xa0\\xa0Q\\xa0\\xa0\\xa0 But are you saying that the mayor didn’t want the President to come earlier?\\xa0 Because there was certainly a lot of desire from the community for him to come earlier.\\xa0 That — that came up from them and from his constituents.\\xa0\\xa0ADMINISTRATOR REGAN:\\xa0 Yeah, I — I — listen, I think the mayor won reelection and people have faith in him.\\xa0 And the first invitation that he sent to the President was the letter, and the President responded.\\xa0\\xa0I don’t want to speak for the mayor, but, you know, I’ve spent a lot of time with the mayor, and I think I know where he stands.\\xa0Q\\xa0\\xa0\\xa0 Can we ask Karine —\\xa0Q\\xa0\\xa0\\xa0 There’s been so many other disasters —\\xa0(Cross-talk.)\\xa0MS. JEAN-PIERRE:\\xa0 Yeah, yeah.\\xa0 Let him finish, and then (inaudible) —\\xa0Q\\xa0\\xa0\\xa0 There have been many other disasters where the President has come sooner.\\xa0 So, that’s why it’s odd that this one has such a lengthy timeline.\\xa0\\xa0ADMINISTRATOR REGAN:\\xa0 Well, I can tell you, he has been engaged from the very beginning.\\xa0 And I have briefed him and his senior leader — leadership team a number of times.\\xa0 And he — he is very focused on the details.\\xa0 Let me tell you.\\xa0MS. JEAN-PIERRE:\\xa0 Thank you, guys.\\xa0 Thank you, guys, because we’re about — they’re going to tell us to sit in a second.\\xa0\\xa0Let me just tell you really quickly — thank you so much, Administrator.\\xa0\\xa0ADMINISTRATOR REGAN:\\xa0 Thank you.\\xa0MS. JEAN-PIERRE:\\xa0 So, in Pennsylvania, the President is going to be joined by Representative Chris Deluzio and then with — to meet with first responders and obviously the Mayor of East Palestine, Trent Conaway, and the Federal Disaster Recovery Coordinator, Jim McPherson.\\xa0\\xa0And I think I have time for a couple questions.\\n'},\n",
       " {'loc_one': None,\n",
       "  'loc_two': None,\n",
       "  'start': None,\n",
       "  'end': None,\n",
       "  'text': 'Q\\xa0\\xa0\\xa0 Just to follow up on the President’s remarks regarding Navalny’s death —\\xa0MS. JEAN-PIERRE:\\xa0 Yeah, yeah.\\xa0Q\\xa0\\xa0\\xa0 — where does the White House stand on additional sanctions?\\xa0 And does it believe that sanctions can be effective in changing Putin’s behavior?\\xa0MS. JEAN-PIERRE:\\xa0 I mean, look, I think the President actually answered this really, really well, which is, like, just look at what we have done in the last three years — right? — where we and our partners have imposed the most severe sanctions on Russia and that — that any economy its size has ever — ever faced.\\xa0\\xa0We’ve kicked them up out of the — we kicked them out of the international organization and worked to isolate them on the world stage.\\xa0\\xa0And we’ve proved — we’ve provided Ukraine with the capacity to impose massive costs on the — on the Russian military.\\xa0And one of the things that the President said is that, look, if — if we really want to make sure that we keep — we — we really react to what Put- — Putin is doing, we got to get that supplemental.\\xa0 It’s so critical to get that supplemental.\\xa0\\xa0And the President obviously said we’re not going to lay out what we’re going to do next, if — if it — it is indeed — if we move forward with sanctions.\\xa0 But the supplemental is so key and critical, and that’s what we’re going to continue to call on Congress —\\xa0Q\\xa0\\xa0\\xa0 Is the — is the —\\xa0MS. JEAN-PIERRE:\\xa0 — to that done.\\xa0Q\\xa0\\xa0\\xa0 — White House taking any moves to find out specifically how he was killed?\\xa0\\xa0MS. JEAN-PIERRE:\\xa0 So, look, obviously, we want to get to the bottom of this and — and —\\xa0Q\\xa0\\xa0\\xa0 (Inaudible.)\\xa0MS. JEAN-PIERRE:\\xa0 — get a sense of what happened.\\xa0 But I don’t want to get ahead of that.\\xa0 And we do believe there should be an investigation.\\xa0\\xa0So, we probably should sit down, guys.\\xa0 Hold on.\\xa0 I —\\xa0\\xa0Q\\xa0\\xa0\\xa0 Do you think there should be an investigation by whom?\\xa0MS. JEAN-PIERRE:\\xa0 I mean, look, we believe that it should be investigated, that it should be looked into.\\xa0 But I don’t want to comment, obviously, on intelligence matters.\\xa0 I want to be really mindful here.\\xa0\\xa0But we know what we know, which is what the President said — and you heard this from the Vice President as well — that this is — that this — that Putin clearly is — is — you know, he — he’s responsible for this, and everybody should be clear about that.\\xa0 He is responsible for this.\\xa0Q\\xa0\\xa0\\xa0 Does the White House welcome Special Counsel Hur testifying before Congress next month?\\xa0\\xa0MS. JEAN-PIERRE:\\xa0 So, I’m going to — I’m going to be really careful about that.\\xa0 I’m not going to comment on — on that.\\xa0 That is something for Congress to — to decide.\\xa0\\xa0Q\\xa0\\xa0\\xa0 Do we expect the transcripts to come out before or after that testimony?\\xa0MS. JEAN-PIERRE:\\xa0 I mean, I’m not going to give a timeline on the transcript, obviously.\\xa0 Obviously, we’ve looked — we’re looking into it.\\xa0 I just don’t have anything else to say about that.\\xa0\\xa0Q\\xa0\\xa0\\xa0 Thanks.\\xa0\\xa0Q\\xa0\\xa0\\xa0 Thanks, Karine.\\xa0MS. JEAN-PIERRE:\\xa0 All right, no problem.\\xa0 That was a little dicey.\\n'},\n",
       " {'loc_one': None,\n",
       "  'loc_two': None,\n",
       "  'start': '2:22 P.M. EST',\n",
       "  'end': '2:22 P.M. EST',\n",
       "  'text': '2:22 P.M. EST\\n'}]"
      ]
     },
     "execution_count": 10,
     "metadata": {},
     "output_type": "execute_result"
    }
   ],
   "source": [
    "releases_list"
   ]
  },
  {
   "cell_type": "code",
   "execution_count": null,
   "id": "749a3939-8d05-4a4e-91e4-1ee1a15ad982",
   "metadata": {},
   "outputs": [],
   "source": []
  },
  {
   "cell_type": "code",
   "execution_count": null,
   "id": "abf63eb7-91fd-4cdc-878a-71c2d58f785b",
   "metadata": {},
   "outputs": [],
   "source": []
  },
  {
   "cell_type": "code",
   "execution_count": null,
   "id": "45479a2b-8cc7-4c81-8579-7a4bbb13a5fe",
   "metadata": {},
   "outputs": [],
   "source": []
  },
  {
   "cell_type": "code",
   "execution_count": null,
   "id": "31395b02-9a83-4d54-bdcc-e26247f80187",
   "metadata": {},
   "outputs": [],
   "source": []
  },
  {
   "cell_type": "code",
   "execution_count": null,
   "id": "9975fdfc-a6c3-43e3-aed7-467fa12877fe",
   "metadata": {},
   "outputs": [],
   "source": []
  },
  {
   "cell_type": "code",
   "execution_count": null,
   "id": "2aa4bd24-0fab-4669-ae1a-5a74f36277a3",
   "metadata": {},
   "outputs": [],
   "source": []
  },
  {
   "cell_type": "markdown",
   "id": "aad1c729-1c63-4cd3-bcd0-0f48b6800b5b",
   "metadata": {},
   "source": [
    "## Export"
   ]
  },
  {
   "cell_type": "markdown",
   "id": "fa4de10c-a1ae-4bc7-a168-d912358bf9cb",
   "metadata": {},
   "source": [
    "#### All to CSV & JSON"
   ]
  },
  {
   "cell_type": "code",
   "execution_count": 11,
   "id": "963301ae-b6af-4460-881d-7c0591f4f57e",
   "metadata": {},
   "outputs": [],
   "source": [
    "df.to_csv(f\"data/processed/white_house_release_release_metadata.csv\", index=False)\n",
    "df.to_json(\n",
    "    f\"data/processed/white_house_release_release_metadata.json\",\n",
    "    indent=4,\n",
    "    orient=\"records\",\n",
    ")"
   ]
  },
  {
   "cell_type": "markdown",
   "id": "c4f12b78-876f-43e4-85ab-e3c3bdfa9122",
   "metadata": {},
   "source": [
    "#### Export by category"
   ]
  },
  {
   "cell_type": "code",
   "execution_count": 12,
   "id": "b9a9eda1-bd25-47b8-b239-002523b7309a",
   "metadata": {},
   "outputs": [],
   "source": [
    "categories = list(df.category.unique())"
   ]
  },
  {
   "cell_type": "code",
   "execution_count": 13,
   "id": "ead930cc-72df-43ba-869b-4f4e2b92ab78",
   "metadata": {},
   "outputs": [],
   "source": [
    "for c in categories:\n",
    "    df.query(f'category == \"{c}\"').to_csv(\n",
    "        f\"data/processed/white_house_release_release_metadata_{c.lower().replace(' ', '_')}.csv\",\n",
    "        index=False,\n",
    "    )\n",
    "    df.query(f'category == \"{c}\"').to_json(\n",
    "        f\"data/processed/white_house_release_release_metadata_{c.lower().replace(' ', '_')}.json\",\n",
    "        indent=4,\n",
    "        orient=\"records\",\n",
    "    )"
   ]
  }
 ],
 "metadata": {
  "kernelspec": {
   "display_name": "Python 3 (ipykernel)",
   "language": "python",
   "name": "python3"
  },
  "language_info": {
   "codemirror_mode": {
    "name": "ipython",
    "version": 3
   },
   "file_extension": ".py",
   "mimetype": "text/x-python",
   "name": "python",
   "nbconvert_exporter": "python",
   "pygments_lexer": "ipython3",
   "version": "3.10.9"
  }
 },
 "nbformat": 4,
 "nbformat_minor": 5
}
