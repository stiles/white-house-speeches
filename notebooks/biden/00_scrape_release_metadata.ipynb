{
 "cells": [
  {
   "cell_type": "markdown",
   "id": "8d8c727d-dbdb-4aa8-b80f-f1bfa0331534",
   "metadata": {},
   "source": [
    "# Scrape Biden White House press release metadata"
   ]
  },
  {
   "cell_type": "markdown",
   "id": "a1757991-884f-4258-9af2-d71d34f03f76",
   "metadata": {},
   "source": [
    "> Use the requests library to visit the Biden's administration's [press release page](https://www.whitehouse.gov/briefing-room), loop over the pagination and grab basic information (headline, url, date and category) about each release."
   ]
  },
  {
   "cell_type": "markdown",
   "id": "0b107a0d-19e7-4559-ae98-c607df41a5da",
   "metadata": {},
   "source": [
    "---"
   ]
  },
  {
   "cell_type": "markdown",
   "id": "1f586bf2-be53-459f-8bcc-ee6feb1dfd32",
   "metadata": {},
   "source": [
    "## Config"
   ]
  },
  {
   "cell_type": "markdown",
   "id": "9c6c6d52-28c5-468e-a5d6-595a37de7e7e",
   "metadata": {},
   "source": [
    "#### Python tools and Jupyter settings"
   ]
  },
  {
   "cell_type": "code",
   "execution_count": 1,
   "id": "6f323e1a-526a-45e5-bf65-9d827754846a",
   "metadata": {},
   "outputs": [],
   "source": [
    "import json\n",
    "import requests\n",
    "import pandas as pd\n",
    "import jupyter_black\n",
    "import altair as alt\n",
    "from bs4 import BeautifulSoup\n",
    "from tqdm.notebook import tqdm"
   ]
  },
  {
   "cell_type": "code",
   "execution_count": 2,
   "id": "84fda19c-1392-4902-a534-e0ccfcb1c119",
   "metadata": {
    "tags": []
   },
   "outputs": [
    {
     "data": {
      "text/html": [
       "\n",
       "                <script type=\"application/javascript\" id=\"jupyter_black\">\n",
       "                (function() {\n",
       "                    if (window.IPython === undefined) {\n",
       "                        return\n",
       "                    }\n",
       "                    var msg = \"WARNING: it looks like you might have loaded \" +\n",
       "                        \"jupyter_black in a non-lab notebook with \" +\n",
       "                        \"`is_lab=True`. Please double check, and if \" +\n",
       "                        \"loading with `%load_ext` please review the README!\"\n",
       "                    console.log(msg)\n",
       "                    alert(msg)\n",
       "                })()\n",
       "                </script>\n",
       "                "
      ],
      "text/plain": [
       "<IPython.core.display.HTML object>"
      ]
     },
     "metadata": {},
     "output_type": "display_data"
    }
   ],
   "source": [
    "jupyter_black.load()\n",
    "pd.options.display.max_columns = 100\n",
    "pd.options.display.max_rows = 100\n",
    "pd.options.display.max_colwidth = None"
   ]
  },
  {
   "cell_type": "code",
   "execution_count": 3,
   "id": "bd004799-515e-4c72-a270-857155d5269a",
   "metadata": {
    "tags": []
   },
   "outputs": [],
   "source": [
    "today = pd.Timestamp(\"today\").strftime(\"%Y-%m-%d\")\n",
    "president = \"biden\""
   ]
  },
  {
   "cell_type": "markdown",
   "id": "b09e6202-e6f2-4968-9f36-92cb7af8a939",
   "metadata": {},
   "source": [
    "---"
   ]
  },
  {
   "cell_type": "markdown",
   "id": "fb22d1db-3553-4446-96ce-a0a4bfb1c40a",
   "metadata": {},
   "source": [
    "## Read data"
   ]
  },
  {
   "cell_type": "markdown",
   "id": "496fce43-4bb7-404f-8ee8-861dbaa16cda",
   "metadata": {},
   "source": [
    "#### Get pagination details from White House press release [home page](https://www.whitehouse.gov/briefing-room/)"
   ]
  },
  {
   "cell_type": "code",
   "execution_count": 4,
   "id": "af8900fd-0c86-4afc-996e-4a4c0bd423ea",
   "metadata": {},
   "outputs": [],
   "source": [
    "r = requests.get(f\"https://www.whitehouse.gov/briefing-room/\")\n",
    "sp = BeautifulSoup(r.text, \"html.parser\")\n",
    "\n",
    "pagination = sp.find_all(\"a\", class_=\"page-numbers\")[-1].text\n",
    "end = int(pagination.replace(\"Page \", \"\")) + 1"
   ]
  },
  {
   "cell_type": "markdown",
   "id": "ae48cbb4-e7c7-4dee-96b4-ffd0cd609c4b",
   "metadata": {},
   "source": [
    "#### Loop through each page and snag details about each release"
   ]
  },
  {
   "cell_type": "code",
   "execution_count": 5,
   "id": "c8c78c79-1c31-4ea0-be24-3a6edfffe81f",
   "metadata": {},
   "outputs": [
    {
     "data": {
      "application/vnd.jupyter.widget-view+json": {
       "model_id": "b0c005d235a9414cad176dca603a1066",
       "version_major": 2,
       "version_minor": 0
      },
      "text/plain": [
       "  0%|          | 0/993 [00:00<?, ?it/s]"
      ]
     },
     "metadata": {},
     "output_type": "display_data"
    }
   ],
   "source": [
    "releases = []\n",
    "\n",
    "for i in tqdm(range(1, end)):\n",
    "    response = requests.get(f\"https://www.whitehouse.gov/briefing-room/page/{i}/\")\n",
    "    soup = BeautifulSoup(response.text, \"html.parser\")\n",
    "\n",
    "    for s in soup.find_all(\"article\", class_=\"news-item\"):\n",
    "        headline = s.find(\"h2\").text.strip()\n",
    "        url = s.find(\"a\")[\"href\"]\n",
    "        date = s.find(\"time\").text\n",
    "        category = s.find(\"span\", class_=\"cat-links\").text\n",
    "        releases_dict = {\n",
    "            \"headline\": headline,\n",
    "            \"url\": url,\n",
    "            \"date_str\": date,\n",
    "            \"category\": category,\n",
    "            \"page\": i,\n",
    "        }\n",
    "        releases.append(releases_dict)"
   ]
  },
  {
   "cell_type": "markdown",
   "id": "80f9ecb7-62fd-4252-b659-d8fd9618bb2a",
   "metadata": {},
   "source": [
    "#### Get the list into a dataframe"
   ]
  },
  {
   "cell_type": "code",
   "execution_count": 6,
   "id": "40c38e29-75f0-4ffe-83c1-b19659c7b54f",
   "metadata": {},
   "outputs": [],
   "source": [
    "src = pd.DataFrame(releases)"
   ]
  },
  {
   "cell_type": "code",
   "execution_count": 7,
   "id": "85b8af43-0654-4946-bd0f-10c015912006",
   "metadata": {},
   "outputs": [
    {
     "data": {
      "text/plain": [
       "9922"
      ]
     },
     "execution_count": 7,
     "metadata": {},
     "output_type": "execute_result"
    }
   ],
   "source": [
    "count = len(src)\n",
    "count"
   ]
  },
  {
   "cell_type": "markdown",
   "id": "1da95f44-3c1f-45aa-913a-a1853c3b7089",
   "metadata": {},
   "source": [
    "#### Clean up"
   ]
  },
  {
   "cell_type": "code",
   "execution_count": 8,
   "id": "015ef464-70eb-4f1a-8faa-603a418ef0e9",
   "metadata": {},
   "outputs": [],
   "source": [
    "src[\"location\"] = src[\"headline\"].str.split(\"|\", expand=True)[1].fillna(\"\")"
   ]
  },
  {
   "cell_type": "code",
   "execution_count": 9,
   "id": "332cf004-6bcf-498a-9ebb-bb8d26c4d954",
   "metadata": {},
   "outputs": [],
   "source": [
    "src[\"date\"] = pd.to_datetime(src[\"date_str\"]).astype(str)"
   ]
  },
  {
   "cell_type": "code",
   "execution_count": 10,
   "id": "8a2871b7-04f9-4ed8-8cc0-48fe2c3eac36",
   "metadata": {},
   "outputs": [],
   "source": [
    "src[\"president\"] = president"
   ]
  },
  {
   "cell_type": "code",
   "execution_count": 11,
   "id": "85ba9b50-a6fe-40e6-9444-7ebce90e841d",
   "metadata": {},
   "outputs": [],
   "source": [
    "df = src.copy()"
   ]
  },
  {
   "cell_type": "markdown",
   "id": "14a2462e-375c-4e07-aba8-a2336c74975d",
   "metadata": {},
   "source": [
    "#### The result: "
   ]
  },
  {
   "cell_type": "code",
   "execution_count": 12,
   "id": "30204a2c-02a8-4867-a8ca-0c41cb04a116",
   "metadata": {},
   "outputs": [
    {
     "data": {
      "text/html": [
       "<div>\n",
       "<style scoped>\n",
       "    .dataframe tbody tr th:only-of-type {\n",
       "        vertical-align: middle;\n",
       "    }\n",
       "\n",
       "    .dataframe tbody tr th {\n",
       "        vertical-align: top;\n",
       "    }\n",
       "\n",
       "    .dataframe thead th {\n",
       "        text-align: right;\n",
       "    }\n",
       "</style>\n",
       "<table border=\"1\" class=\"dataframe\">\n",
       "  <thead>\n",
       "    <tr style=\"text-align: right;\">\n",
       "      <th></th>\n",
       "      <th>headline</th>\n",
       "      <th>url</th>\n",
       "      <th>date_str</th>\n",
       "      <th>category</th>\n",
       "      <th>page</th>\n",
       "      <th>location</th>\n",
       "      <th>date</th>\n",
       "      <th>president</th>\n",
       "    </tr>\n",
       "  </thead>\n",
       "  <tbody>\n",
       "    <tr>\n",
       "      <th>0</th>\n",
       "      <td>Remarks as Prepared for Delivery by First Lady Jill Biden at the Human Rights Campaign 2024 Los Angeles Dinner</td>\n",
       "      <td>https://www.whitehouse.gov/briefing-room/speeches-remarks/2024/03/24/remarks-as-prepared-for-delivery-by-first-lady-jill-biden-at-the-human-rights-campaign-2024-los-angeles-dinner/</td>\n",
       "      <td>March 24, 2024</td>\n",
       "      <td>Speeches and Remarks</td>\n",
       "      <td>1</td>\n",
       "      <td></td>\n",
       "      <td>2024-03-24</td>\n",
       "      <td>biden</td>\n",
       "    </tr>\n",
       "    <tr>\n",
       "      <th>1</th>\n",
       "      <td>Remarks by Vice President Harris on Gun Violence Prevention While at Marjory Stoneman Douglas High School | Parkland, FL</td>\n",
       "      <td>https://www.whitehouse.gov/briefing-room/speeches-remarks/2024/03/23/remarks-by-vice-president-harris-on-gun-violence-prevention-while-at-marjory-stoneman-douglas-high-school-parkland-fl/</td>\n",
       "      <td>March 23, 2024</td>\n",
       "      <td>Speeches and Remarks</td>\n",
       "      <td>1</td>\n",
       "      <td>Parkland, FL</td>\n",
       "      <td>2024-03-23</td>\n",
       "      <td>biden</td>\n",
       "    </tr>\n",
       "    <tr>\n",
       "      <th>2</th>\n",
       "      <td>Statement from Press Secretary Karine Jean-Pierre on the Terrorist Attack in Moscow</td>\n",
       "      <td>https://www.whitehouse.gov/briefing-room/statements-releases/2024/03/23/statement-from-press-secretary-karine-jean-pierre-on-the-terrorist-attack-in-moscow/</td>\n",
       "      <td>March 23, 2024</td>\n",
       "      <td>Statements and Releases</td>\n",
       "      <td>1</td>\n",
       "      <td></td>\n",
       "      <td>2024-03-23</td>\n",
       "      <td>biden</td>\n",
       "    </tr>\n",
       "    <tr>\n",
       "      <th>3</th>\n",
       "      <td>Press Release: Letter to the Speaker of the House and President of the Senate: Designation of Funding as Emergency Requirements in Accordance with Section 6 of the Further Consolidated Appropriations Act, 2024</td>\n",
       "      <td>https://www.whitehouse.gov/briefing-room/presidential-actions/2024/03/23/press-release-letter-to-the-speaker-of-the-house-and-president-of-the-senate-designation-of-funding-as-emergency-requirements-in-accordance-with-section-6-of-the-further-consolidated-appropriations/</td>\n",
       "      <td>March 23, 2024</td>\n",
       "      <td>Presidential Actions</td>\n",
       "      <td>1</td>\n",
       "      <td></td>\n",
       "      <td>2024-03-23</td>\n",
       "      <td>biden</td>\n",
       "    </tr>\n",
       "    <tr>\n",
       "      <th>4</th>\n",
       "      <td>Statement from President Joe Biden on the Bipartisan Government Funding Bill</td>\n",
       "      <td>https://www.whitehouse.gov/briefing-room/statements-releases/2024/03/23/statement-from-president-joe-biden-on-the-bipartisan-government-funding-bill/</td>\n",
       "      <td>March 23, 2024</td>\n",
       "      <td>Statements and Releases</td>\n",
       "      <td>1</td>\n",
       "      <td></td>\n",
       "      <td>2024-03-23</td>\n",
       "      <td>biden</td>\n",
       "    </tr>\n",
       "  </tbody>\n",
       "</table>\n",
       "</div>"
      ],
      "text/plain": [
       "                                                                                                                                                                                                            headline  \\\n",
       "0                                                                                                     Remarks as Prepared for Delivery by First Lady Jill Biden at the Human Rights Campaign 2024 Los Angeles Dinner   \n",
       "1                                                                                           Remarks by Vice President Harris on Gun Violence Prevention While at Marjory Stoneman Douglas High School | Parkland, FL   \n",
       "2                                                                                                                                Statement from Press Secretary Karine Jean-Pierre on the Terrorist Attack in Moscow   \n",
       "3  Press Release: Letter to the Speaker of the House and President of the Senate: Designation of Funding as Emergency Requirements in Accordance with Section 6 of the Further Consolidated Appropriations Act, 2024   \n",
       "4                                                                                                                                       Statement from President Joe Biden on the Bipartisan Government Funding Bill   \n",
       "\n",
       "                                                                                                                                                                                                                                                                               url  \\\n",
       "0                                                                                             https://www.whitehouse.gov/briefing-room/speeches-remarks/2024/03/24/remarks-as-prepared-for-delivery-by-first-lady-jill-biden-at-the-human-rights-campaign-2024-los-angeles-dinner/   \n",
       "1                                                                                      https://www.whitehouse.gov/briefing-room/speeches-remarks/2024/03/23/remarks-by-vice-president-harris-on-gun-violence-prevention-while-at-marjory-stoneman-douglas-high-school-parkland-fl/   \n",
       "2                                                                                                                     https://www.whitehouse.gov/briefing-room/statements-releases/2024/03/23/statement-from-press-secretary-karine-jean-pierre-on-the-terrorist-attack-in-moscow/   \n",
       "3  https://www.whitehouse.gov/briefing-room/presidential-actions/2024/03/23/press-release-letter-to-the-speaker-of-the-house-and-president-of-the-senate-designation-of-funding-as-emergency-requirements-in-accordance-with-section-6-of-the-further-consolidated-appropriations/   \n",
       "4                                                                                                                            https://www.whitehouse.gov/briefing-room/statements-releases/2024/03/23/statement-from-president-joe-biden-on-the-bipartisan-government-funding-bill/   \n",
       "\n",
       "         date_str                 category  page       location        date  \\\n",
       "0  March 24, 2024     Speeches and Remarks     1                 2024-03-24   \n",
       "1  March 23, 2024     Speeches and Remarks     1   Parkland, FL  2024-03-23   \n",
       "2  March 23, 2024  Statements and Releases     1                 2024-03-23   \n",
       "3  March 23, 2024     Presidential Actions     1                 2024-03-23   \n",
       "4  March 23, 2024  Statements and Releases     1                 2024-03-23   \n",
       "\n",
       "  president  \n",
       "0     biden  \n",
       "1     biden  \n",
       "2     biden  \n",
       "3     biden  \n",
       "4     biden  "
      ]
     },
     "execution_count": 12,
     "metadata": {},
     "output_type": "execute_result"
    }
   ],
   "source": [
    "df.head()"
   ]
  },
  {
   "cell_type": "code",
   "execution_count": 13,
   "id": "db1eb4c5-6948-4fb6-931a-2df5a92a8af4",
   "metadata": {},
   "outputs": [
    {
     "name": "stdout",
     "output_type": "stream",
     "text": [
      "The scraper collected 9922 metadata records from President Biden. Data exported successfully.\n"
     ]
    }
   ],
   "source": [
    "print(\n",
    "    f\"The scraper collected {count} metadata records from President {president.title()}. Data exported successfully.\"\n",
    ")"
   ]
  },
  {
   "cell_type": "markdown",
   "id": "2fad8798-4727-4776-b537-ec62868c2da4",
   "metadata": {},
   "source": [
    "---"
   ]
  },
  {
   "cell_type": "markdown",
   "id": "aad1c729-1c63-4cd3-bcd0-0f48b6800b5b",
   "metadata": {},
   "source": [
    "## Export"
   ]
  },
  {
   "cell_type": "markdown",
   "id": "fa4de10c-a1ae-4bc7-a168-d912358bf9cb",
   "metadata": {},
   "source": [
    "#### All to CSV & JSON"
   ]
  },
  {
   "cell_type": "code",
   "execution_count": 14,
   "id": "963301ae-b6af-4460-881d-7c0591f4f57e",
   "metadata": {},
   "outputs": [],
   "source": [
    "df.to_csv(\n",
    "    f\"../../data/processed/{president}/{president}_release_metadata.csv\", index=False\n",
    ")\n",
    "df.to_json(\n",
    "    f\"../../data/processed/{president}/{president}_release_metadata.json\",\n",
    "    indent=4,\n",
    "    orient=\"records\",\n",
    ")"
   ]
  },
  {
   "cell_type": "markdown",
   "id": "c4f12b78-876f-43e4-85ab-e3c3bdfa9122",
   "metadata": {},
   "source": [
    "#### Export by category"
   ]
  },
  {
   "cell_type": "code",
   "execution_count": 15,
   "id": "bc525658-42bc-42bd-a43e-1fec1b4c7341",
   "metadata": {},
   "outputs": [],
   "source": [
    "categories = list(df.category.unique())"
   ]
  },
  {
   "cell_type": "code",
   "execution_count": 16,
   "id": "ead930cc-72df-43ba-869b-4f4e2b92ab78",
   "metadata": {},
   "outputs": [],
   "source": [
    "# for c in categories:\n",
    "#     df.query(f'category == \"{c}\"').to_csv(\n",
    "#         f\"../../data/processed/{president}/{president}_release_metadata_{c.lower().replace(' ', '_')}.csv\",\n",
    "#         index=False,\n",
    "#     )\n",
    "#     df.query(f'category == \"{c}\"').to_json(\n",
    "#         f\"../../data/processed/{president}/{president}_release_metadata_{c.lower().replace(' ', '_')}.json\",\n",
    "#         indent=4,\n",
    "#         orient=\"records\",\n",
    "#     )"
   ]
  }
 ],
 "metadata": {
  "kernelspec": {
   "display_name": "Python 3 (ipykernel)",
   "language": "python",
   "name": "python3"
  },
  "language_info": {
   "codemirror_mode": {
    "name": "ipython",
    "version": 3
   },
   "file_extension": ".py",
   "mimetype": "text/x-python",
   "name": "python",
   "nbconvert_exporter": "python",
   "pygments_lexer": "ipython3",
   "version": "3.10.9"
  }
 },
 "nbformat": 4,
 "nbformat_minor": 5
}
